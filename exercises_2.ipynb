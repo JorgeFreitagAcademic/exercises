{
  "nbformat": 4,
  "nbformat_minor": 0,
  "metadata": {
    "colab": {
      "provenance": [],
      "authorship_tag": "ABX9TyO/n1mw/ULGQzwJBD4VGVIS",
      "include_colab_link": true
    },
    "kernelspec": {
      "name": "python3",
      "display_name": "Python 3"
    },
    "language_info": {
      "name": "python"
    }
  },
  "cells": [
    {
      "cell_type": "markdown",
      "metadata": {
        "id": "view-in-github",
        "colab_type": "text"
      },
      "source": [
        "<a href=\"https://colab.research.google.com/github/JorgeFreitagAcademic/exercises/blob/main/exercises_2.ipynb\" target=\"_parent\"><img src=\"https://colab.research.google.com/assets/colab-badge.svg\" alt=\"Open In Colab\"/></a>"
      ]
    },
    {
      "cell_type": "markdown",
      "source": [
        "#Bibliotecas Importadas"
      ],
      "metadata": {
        "id": "B1tHMAWvn0cJ"
      }
    },
    {
      "cell_type": "code",
      "execution_count": null,
      "metadata": {
        "id": "20ACzvYynvXZ"
      },
      "outputs": [],
      "source": [
        "import math"
      ]
    },
    {
      "cell_type": "markdown",
      "source": [
        "#Exercícios 41 - 80"
      ],
      "metadata": {
        "id": "kmseeCCnoCbn"
      }
    },
    {
      "cell_type": "markdown",
      "source": [
        "##41"
      ],
      "metadata": {
        "id": "tTMVmTOfoGYo"
      }
    },
    {
      "cell_type": "markdown",
      "source": [
        "LEIA UM NÚMERO INTEIRO E IMPRIMA ATÉ O VALOR 0."
      ],
      "metadata": {
        "id": "NloQ2_SRoHX4"
      }
    },
    {
      "cell_type": "code",
      "source": [
        "while True:\n",
        "  try:\n",
        "    \n",
        "  except ValueError:\n",
        "    print('Erro')"
      ],
      "metadata": {
        "id": "wQRBBRedoM2q"
      },
      "execution_count": null,
      "outputs": []
    }
  ]
}