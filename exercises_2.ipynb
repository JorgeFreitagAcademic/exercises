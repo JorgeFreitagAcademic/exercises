{
  "nbformat": 4,
  "nbformat_minor": 0,
  "metadata": {
    "colab": {
      "provenance": [],
      "toc_visible": true,
      "include_colab_link": true
    },
    "kernelspec": {
      "name": "python3",
      "display_name": "Python 3"
    },
    "language_info": {
      "name": "python"
    }
  },
  "cells": [
    {
      "cell_type": "markdown",
      "metadata": {
        "id": "view-in-github",
        "colab_type": "text"
      },
      "source": [
        "<a href=\"https://colab.research.google.com/github/JorgeFreitagAcademic/exercises/blob/main/exercises_2.ipynb\" target=\"_parent\"><img src=\"https://colab.research.google.com/assets/colab-badge.svg\" alt=\"Open In Colab\"/></a>"
      ]
    },
    {
      "cell_type": "markdown",
      "source": [
        "#Bibliotecas Importadas"
      ],
      "metadata": {
        "id": "B1tHMAWvn0cJ"
      }
    },
    {
      "cell_type": "code",
      "execution_count": 1,
      "metadata": {
        "id": "20ACzvYynvXZ"
      },
      "outputs": [],
      "source": [
        "import math"
      ]
    },
    {
      "cell_type": "markdown",
      "source": [
        "#Exercícios 41 - 80"
      ],
      "metadata": {
        "id": "kmseeCCnoCbn"
      }
    },
    {
      "cell_type": "markdown",
      "source": [
        "##41"
      ],
      "metadata": {
        "id": "tTMVmTOfoGYo"
      }
    },
    {
      "cell_type": "markdown",
      "source": [
        "LEIA UM NÚMERO INTEIRO E IMPRIMA ATÉ O VALOR 0."
      ],
      "metadata": {
        "id": "NloQ2_SRoHX4"
      }
    },
    {
      "cell_type": "code",
      "source": [
        "while True:\n",
        "  try:\n",
        "    numero = int(input('Digite um número inteiro para realizar uma contagem regressiva: '))\n",
        "    while numero >= 0:\n",
        "      print(numero)\n",
        "      numero -= 1\n",
        "    break\n",
        "  except ValueError:\n",
        "    print('Erro')"
      ],
      "metadata": {
        "id": "wQRBBRedoM2q",
        "outputId": "982dcea5-82e4-43e0-f9f6-7465500a3f01",
        "colab": {
          "base_uri": "https://localhost:8080/"
        }
      },
      "execution_count": null,
      "outputs": [
        {
          "output_type": "stream",
          "name": "stdout",
          "text": [
            "Digite um número inteiro para realizar uma contagem regressiva: 8\n",
            "8\n",
            "7\n",
            "6\n",
            "5\n",
            "4\n",
            "3\n",
            "2\n",
            "1\n",
            "0\n"
          ]
        }
      ]
    },
    {
      "cell_type": "markdown",
      "source": [
        "##42"
      ],
      "metadata": {
        "id": "o7jJYGNXYTIq"
      }
    },
    {
      "cell_type": "markdown",
      "source": [
        "FAÇA UM PROGRAMA QUE IMPRIME A QUANTIDADE DE NÚMEROS PARES DE 100 ATÉ 200, INCLUINDO- OS"
      ],
      "metadata": {
        "id": "oqY9yowOYUs7"
      }
    },
    {
      "cell_type": "code",
      "source": [
        "pares = 0\n",
        "for x in range(100,201):\n",
        "  if x % 2 == 0:\n",
        "    pares += 1\n",
        "print(f'O número de pares entre 100 e 200 é de {pares}')"
      ],
      "metadata": {
        "id": "6sVUYLmaadNN",
        "outputId": "6341b4c5-72fe-4715-cdf7-09b6804a0b70",
        "colab": {
          "base_uri": "https://localhost:8080/"
        }
      },
      "execution_count": null,
      "outputs": [
        {
          "output_type": "stream",
          "name": "stdout",
          "text": [
            "O número de pares entre 100 e 200 é de 51\n"
          ]
        }
      ]
    },
    {
      "cell_type": "markdown",
      "source": [
        "##43"
      ],
      "metadata": {
        "id": "Hik94uGka4ut"
      }
    },
    {
      "cell_type": "markdown",
      "source": [
        "FAÇA UM PROGRAMA PARA CONTAR A QUANTIDADE DE NÚMEROS PARES ENTRE DOIS NÚMEROS QUAISQUER"
      ],
      "metadata": {
        "id": "Mtu9bCAqa55s"
      }
    },
    {
      "cell_type": "code",
      "source": [
        "print('Digite dois valores para receber a quantidade de pares entre estes')\n",
        "valores = []\n",
        "pares = 0\n",
        "while True:\n",
        "  try:\n",
        "    while len(valores) < 2:\n",
        "      valor = int(input('Digite o valor inteiro: '))\n",
        "      valores.append(valor)\n",
        "    break\n",
        "  except ValueError:\n",
        "    print('Erro')\n",
        "for x in range(min(valores),max(valores) + 1):\n",
        "  if x % 2 == 0:\n",
        "    pares += 1\n",
        "print(f'O número de pares entre {min(valores)} e {max(valores)} é de {pares}')"
      ],
      "metadata": {
        "id": "YVQnIm7fa9Au",
        "outputId": "cad762b9-f8b1-46fe-9489-dcdc04f888f4",
        "colab": {
          "base_uri": "https://localhost:8080/"
        }
      },
      "execution_count": null,
      "outputs": [
        {
          "output_type": "stream",
          "name": "stdout",
          "text": [
            "Digite dois valores para receber a quantidade de pares entre estes\n",
            "Digite o valor inteiro: 67\n",
            "Digite o valor inteiro: 15\n",
            "O número de pares entre 15 e 67 é de 26\n"
          ]
        }
      ]
    },
    {
      "cell_type": "markdown",
      "source": [
        "##44"
      ],
      "metadata": {
        "id": "FjdvOKYQuXj3"
      }
    },
    {
      "cell_type": "markdown",
      "source": [
        "FAÇA UM PROGRAMA QUE IMPRIME A SOMA DE TODOS OS NÚMEROS PARES ENTRE DOIS NÚMEROS QUAISQUER, INCLUINDO- OS."
      ],
      "metadata": {
        "id": "RZ6Qkcq3uXaW"
      }
    },
    {
      "cell_type": "code",
      "source": [
        "print('Digite dois valores para receber a quantidade de pares entre estes')\n",
        "valores = []\n",
        "soma = 0\n",
        "while True:\n",
        "  try:\n",
        "    while len(valores) < 2:\n",
        "      valor = int(input('Digite o valor inteiro: '))\n",
        "      valores.append(valor)\n",
        "    break\n",
        "  except ValueError:\n",
        "    print('Erro')\n",
        "for x in range(min(valores),max(valores) + 1):\n",
        "  if x % 2 == 0:\n",
        "    soma += x\n",
        "print(f'A soma dos valores entre {min(valores)} e {max(valores)} é de {soma}')"
      ],
      "metadata": {
        "id": "TlHdzlysuWqf",
        "outputId": "75452741-2aee-4796-999d-8488cd28e2a8",
        "colab": {
          "base_uri": "https://localhost:8080/"
        }
      },
      "execution_count": null,
      "outputs": [
        {
          "output_type": "stream",
          "name": "stdout",
          "text": [
            "Digite dois valores para receber a quantidade de pares entre estes\n",
            "Digite o valor inteiro: 10\n",
            "Digite o valor inteiro: 22\n",
            "A soma dos valores entre 10 e 22 é de 112\n"
          ]
        }
      ]
    },
    {
      "cell_type": "markdown",
      "source": [
        "##45"
      ],
      "metadata": {
        "id": "9ZTpIQMCv1Gr"
      }
    },
    {
      "cell_type": "markdown",
      "source": [
        "FAÇA UM PROGRAMA QUE CALCULE O FATORIAL DE UM NÚMERO."
      ],
      "metadata": {
        "id": "LdNV3ob5v08T"
      }
    },
    {
      "cell_type": "code",
      "source": [
        "while True:\n",
        "  try:\n",
        "    valor = int(input(\"Enter a number: \"))\n",
        "    fat = 1\n",
        "    if valor < 0:\n",
        "      print(\"Digite um número inteiro par\")\n",
        "    elif valor == 0:\n",
        "      print(\"O fatorial de 0 é: 1\")\n",
        "      break\n",
        "    else:\n",
        "      for i in range(1,valor + 1):\n",
        "          fat = fat*i\n",
        "      print(f'O fatorial de {valor} é: {fat}')\n",
        "      break\n",
        "  except ValueError:\n",
        "    print('Deve ser um número')"
      ],
      "metadata": {
        "id": "Fd-cBUjFg0Qc",
        "outputId": "93e86fcb-c9ec-403a-c710-68a6db93b206",
        "colab": {
          "base_uri": "https://localhost:8080/"
        }
      },
      "execution_count": 15,
      "outputs": [
        {
          "output_type": "stream",
          "name": "stdout",
          "text": [
            "Enter a number: 20\n",
            "O fatorial de 20 é: 2432902008176640000\n"
          ]
        }
      ]
    },
    {
      "cell_type": "markdown",
      "source": [
        "##46"
      ],
      "metadata": {
        "id": "o8uC4I-6iQZM"
      }
    },
    {
      "cell_type": "markdown",
      "source": [
        "FAÇA UM PROGRAMA QUE DETERMINE O MOSTRE OS CINCO PRIMEIROS MÚLTIPLOS DE  3, CONSIDERANDO NÚMEROS MAIORES QUE 0."
      ],
      "metadata": {
        "id": "Fadql2sBiS9t"
      }
    },
    {
      "cell_type": "code",
      "source": [
        "numbase = 3\n",
        "for multiplo in range(1,6):\n",
        "  print(f'3 x {multiplo} = {3 * multiplo}')"
      ],
      "metadata": {
        "id": "c7hZu7qVieUX",
        "outputId": "a5f235df-d619-4336-b81d-dfd525c603d9",
        "colab": {
          "base_uri": "https://localhost:8080/"
        }
      },
      "execution_count": 19,
      "outputs": [
        {
          "output_type": "stream",
          "name": "stdout",
          "text": [
            "3 x 1 = 3\n",
            "3 x 2 = 6\n",
            "3 x 3 = 9\n",
            "3 x 4 = 12\n",
            "3 x 5 = 15\n"
          ]
        }
      ]
    },
    {
      "cell_type": "markdown",
      "source": [
        "##47"
      ],
      "metadata": {
        "id": "1F5iLddHjL_N"
      }
    },
    {
      "cell_type": "markdown",
      "source": [
        "FAÇA UM ALGORITMO UTILIZANDO O COMANDO WHILE QUE MOSTRA UMA CONTAGEM REGRESSIVA NA TELA, INICIANDO EM 10 E TERMINANDO EM  0 . MOSTRAR UMA MENSAGEM “ FIM!”  APÓS A CONTAGEM."
      ],
      "metadata": {
        "id": "GEQioaxhjNnG"
      }
    },
    {
      "cell_type": "code",
      "source": [
        "timer = 10\n",
        "while timer > 0:\n",
        "  print(timer)\n",
        "  timer -= 1\n",
        "print('FIM!')"
      ],
      "metadata": {
        "id": "i3qZ86hbkL2X",
        "outputId": "2bb65f61-a56c-4c4f-be48-ca45516e8643",
        "colab": {
          "base_uri": "https://localhost:8080/"
        }
      },
      "execution_count": 20,
      "outputs": [
        {
          "output_type": "stream",
          "name": "stdout",
          "text": [
            "10\n",
            "9\n",
            "8\n",
            "7\n",
            "6\n",
            "5\n",
            "4\n",
            "3\n",
            "2\n",
            "1\n",
            "FIM!\n"
          ]
        }
      ]
    },
    {
      "cell_type": "markdown",
      "source": [
        "##48"
      ],
      "metadata": {
        "id": "byJUQ4Zgkfuu"
      }
    },
    {
      "cell_type": "markdown",
      "source": [
        "FAÇA UM PROGRAMA QUE PEÇA AO USUÁRIO PARA DIGITAR 10 VALORES E SOME- OS."
      ],
      "metadata": {
        "id": "rgcJDmVIkiDl"
      }
    },
    {
      "cell_type": "code",
      "source": [
        "valores = []\n",
        "print('Digite 10 valores para receber a soma total')\n",
        "while True:\n",
        "  try:\n",
        "    while len(valores) < 10:\n",
        "      numero = int(input('Digite os valores: '))\n",
        "      valores.append(numero)\n",
        "    break\n",
        "  except ValueError:\n",
        "    print('Erro')\n",
        "print(f'A soma total é {sum(valores)}')"
      ],
      "metadata": {
        "id": "AjVXwZvmkn8F",
        "outputId": "a229c508-65e2-46da-f34a-86a097e68a9d",
        "colab": {
          "base_uri": "https://localhost:8080/"
        }
      },
      "execution_count": 22,
      "outputs": [
        {
          "output_type": "stream",
          "name": "stdout",
          "text": [
            "Digite 10 valores para receber a soma total\n",
            "Digite os valores: 1\n",
            "Digite os valores: 1\n",
            "Digite os valores: 1\n",
            "Digite os valores: 1\n",
            "Digite os valores: 1\n",
            "Digite os valores: 1\n",
            "Digite os valores: 1\n",
            "Digite os valores: 1\n",
            "Digite os valores: 1\n",
            "Digite os valores: 1\n",
            "A soma total é 10\n"
          ]
        }
      ]
    },
    {
      "cell_type": "markdown",
      "source": [
        "##49"
      ],
      "metadata": {
        "id": "AWDDBN9QlNBg"
      }
    },
    {
      "cell_type": "markdown",
      "source": [
        "FAÇA UM PROGRAMA QUE LEIA 10 INTEIROS E IMPRIMA SUA MÉDIA."
      ],
      "metadata": {
        "id": "arkL3eDdlOra"
      }
    },
    {
      "cell_type": "code",
      "source": [
        "valores = []\n",
        "print('Digite 10 valores para receber a média')\n",
        "while True:\n",
        "  try:\n",
        "    while len(valores) < 10:\n",
        "      numero = int(input('Digite os valores: '))\n",
        "      valores.append(numero)\n",
        "    break\n",
        "  except ValueError:\n",
        "    print('Erro')\n",
        "print(f'A soma total é {sum(valores) / 10}')"
      ],
      "metadata": {
        "id": "-MQKcztklTPb",
        "outputId": "c2291877-264d-4a30-e048-80270ddfda79",
        "colab": {
          "base_uri": "https://localhost:8080/"
        }
      },
      "execution_count": 24,
      "outputs": [
        {
          "output_type": "stream",
          "name": "stdout",
          "text": [
            "Digite 10 valores para receber a média\n",
            "Digite os valores: 2\n",
            "Digite os valores: 4\n",
            "Digite os valores: 2\n",
            "Digite os valores: 4\n",
            "Digite os valores: 2\n",
            "Digite os valores: 4\n",
            "Digite os valores: 2\n",
            "Digite os valores: 4\n",
            "Digite os valores: 2\n",
            "Digite os valores: 4\n",
            "A soma total é 3.0\n"
          ]
        }
      ]
    },
    {
      "cell_type": "markdown",
      "source": [
        "##50"
      ],
      "metadata": {
        "id": "9tLOHPYllgMe"
      }
    },
    {
      "cell_type": "markdown",
      "source": [
        "FAÇA UM PROGRAMA QUE LEIA 10 INTEIROS POSITIVOS, IGNORANDO NAO POSITIVOS, E IMPRIMA SUA MÉDIA."
      ],
      "metadata": {
        "id": "kf1DZP2klhTW"
      }
    },
    {
      "cell_type": "code",
      "source": [
        "valores = []\n",
        "print('Digite 10 valores positivos para receber a média')\n",
        "while True:\n",
        "  try:\n",
        "    while len(valores) < 10:\n",
        "      numero = int(input('Digite os valores: '))\n",
        "      if numero < 0:\n",
        "        print('Deve ser um número positivo')\n",
        "      else:\n",
        "        valores.append(numero)\n",
        "    break\n",
        "  except ValueError:\n",
        "    print('Erro')\n",
        "print(f'A soma total é {sum(valores) / 10}')"
      ],
      "metadata": {
        "id": "kOCrrEQAlkun",
        "outputId": "71986c88-b4ec-4ba8-fc67-666bf6edb4fd",
        "colab": {
          "base_uri": "https://localhost:8080/"
        }
      },
      "execution_count": 25,
      "outputs": [
        {
          "output_type": "stream",
          "name": "stdout",
          "text": [
            "Digite 10 valores positivos para receber a média\n",
            "Digite os valores: 22\n",
            "Digite os valores: -15\n",
            "Deve ser um número positivo\n",
            "Digite os valores: 59\n",
            "Digite os valores: 58\n",
            "Digite os valores: 31\n",
            "Digite os valores: 22\n",
            "Digite os valores: 59\n",
            "Digite os valores: 2\n",
            "Digite os valores: 3\n",
            "Digite os valores: 5\n",
            "Digite os valores: 1\n",
            "A soma total é 26.2\n"
          ]
        }
      ]
    },
    {
      "cell_type": "markdown",
      "source": [
        "##51"
      ],
      "metadata": {
        "id": "MhCTai_pl3Zc"
      }
    },
    {
      "cell_type": "markdown",
      "source": [
        "FAÇA UM PROGRAMA QUE LEIA UM NÚMERO INTEIRO N E DEPOIS IMPRIMA OS N PRIMEIROS NUMEROS NATURAIS ÍMPARES."
      ],
      "metadata": {
        "id": "lJNT7VCHl4hl"
      }
    },
    {
      "cell_type": "code",
      "source": [
        "print('Insira um valor para receber os números naturais ímpares anteriores')\n",
        "while True:\n",
        "  try:\n",
        "    numero = int(input('Digite um número: '))\n",
        "    for x in range(1,numero + 1):\n",
        "      if x % 2 != 0:\n",
        "        print(x)\n",
        "    break\n",
        "  except ValueError:\n",
        "    print('Erro')"
      ],
      "metadata": {
        "id": "bxghk4RHl7Du",
        "outputId": "d4d4bbcf-428e-47a2-af1f-f7902c8026af",
        "colab": {
          "base_uri": "https://localhost:8080/"
        }
      },
      "execution_count": 27,
      "outputs": [
        {
          "output_type": "stream",
          "name": "stdout",
          "text": [
            "Insira um valor para receber os números naturais ímpares anteriores\n",
            "Digite um número: 9\n",
            "1\n",
            "3\n",
            "5\n",
            "7\n",
            "9\n"
          ]
        }
      ]
    },
    {
      "cell_type": "markdown",
      "source": [
        "##52"
      ],
      "metadata": {
        "id": "RFwHvofhys8h"
      }
    },
    {
      "cell_type": "markdown",
      "source": [
        "FAÇA UM PROGRAMA QUE CALCULE E MOSTRE A SOMA DOS 50 PRIMEIROS NUMEROS PARES."
      ],
      "metadata": {
        "id": "vCSLFEuTyuQk"
      }
    },
    {
      "cell_type": "code",
      "source": [
        "soma = 0\n",
        "for num in range (1, 51):\n",
        "  if num % 2 == 0:\n",
        "    soma += num\n",
        "print(f'A soma é: {soma}')"
      ],
      "metadata": {
        "id": "q9a_nKUbywli",
        "outputId": "7c8fbbd8-efe9-4cc4-bac9-deaf0129b30f",
        "colab": {
          "base_uri": "https://localhost:8080/"
        }
      },
      "execution_count": 33,
      "outputs": [
        {
          "output_type": "stream",
          "name": "stdout",
          "text": [
            "A soma é: 650\n"
          ]
        }
      ]
    },
    {
      "cell_type": "markdown",
      "source": [
        "##53"
      ],
      "metadata": {
        "id": "zJi3JvXbzNl8"
      }
    },
    {
      "cell_type": "markdown",
      "source": [
        "IMPRIMA OS PRIMEIROS 10 NÚMEROS NATURAIS USANDO O LOOP WHILE."
      ],
      "metadata": {
        "id": "-dV0PVFozOis"
      }
    },
    {
      "cell_type": "code",
      "source": [
        "num = 1\n",
        "while num <= 10:\n",
        "  print(num)\n",
        "  num += 1"
      ],
      "metadata": {
        "id": "gkE7r10czNUM",
        "outputId": "28021a3d-7a77-476b-cece-a806c74e141c",
        "colab": {
          "base_uri": "https://localhost:8080/"
        }
      },
      "execution_count": 37,
      "outputs": [
        {
          "output_type": "stream",
          "name": "stdout",
          "text": [
            "1\n",
            "2\n",
            "3\n",
            "4\n",
            "5\n",
            "6\n",
            "7\n",
            "8\n",
            "9\n",
            "10\n"
          ]
        }
      ]
    },
    {
      "cell_type": "markdown",
      "source": [
        "##54"
      ],
      "metadata": {
        "id": "JbsYlkkpzfkR"
      }
    },
    {
      "cell_type": "markdown",
      "source": [
        "IMPRIMIR TABUADA DE   UM   DETERMINADO NÚMERO."
      ],
      "metadata": {
        "id": "DFEZyBIezhMJ"
      }
    },
    {
      "cell_type": "code",
      "source": [
        "while True:\n",
        "  try:\n",
        "    numbase = int(input('Digite um número para obter sua tabuada: '))\n",
        "    for num in range(1, 11):\n",
        "      print(f'{numbase} x {num} = {numbase * num}')\n",
        "    break\n",
        "  except ValueError:\n",
        "    print('Erro')"
      ],
      "metadata": {
        "id": "r4gCZaoyzgwz",
        "outputId": "4795d0cc-0d39-4794-ec7c-9463e55b0d96",
        "colab": {
          "base_uri": "https://localhost:8080/"
        }
      },
      "execution_count": 39,
      "outputs": [
        {
          "output_type": "stream",
          "name": "stdout",
          "text": [
            "Digite um número para obter sua tabuada: -7\n",
            "-7 x 1 = -7\n",
            "-7 x 2 = -14\n",
            "-7 x 3 = -21\n",
            "-7 x 4 = -28\n",
            "-7 x 5 = -35\n",
            "-7 x 6 = -42\n",
            "-7 x 7 = -49\n",
            "-7 x 8 = -56\n",
            "-7 x 9 = -63\n",
            "-7 x 10 = -70\n"
          ]
        }
      ]
    },
    {
      "cell_type": "markdown",
      "source": [
        "##55"
      ],
      "metadata": {
        "id": "aPn3IgEm0Brr"
      }
    },
    {
      "cell_type": "markdown",
      "source": [
        "EXIBIR NÚMEROS DE -10 A -1 USANDO O LOOP FOR. EXIBIR UMA MENSAGEM \" FEITOOOO\" APÓS A EXECUÇÃO BEM- SUCEDIDA DO LOOP FOR "
      ],
      "metadata": {
        "id": "xD4JSN2j0CwC"
      }
    },
    {
      "cell_type": "code",
      "source": [
        "for num in range(-10, 0):\n",
        "  print(num)\n",
        "print('FEITOOOO')"
      ],
      "metadata": {
        "id": "7xCepAWQ0IIT",
        "outputId": "1ecab079-2804-4727-9bcb-2a1908cd962a",
        "colab": {
          "base_uri": "https://localhost:8080/"
        }
      },
      "execution_count": 41,
      "outputs": [
        {
          "output_type": "stream",
          "name": "stdout",
          "text": [
            "-10\n",
            "-9\n",
            "-8\n",
            "-7\n",
            "-6\n",
            "-5\n",
            "-4\n",
            "-3\n",
            "-2\n",
            "-1\n",
            "FEITOOOO\n"
          ]
        }
      ]
    },
    {
      "cell_type": "markdown",
      "source": [
        "##56"
      ],
      "metadata": {
        "id": "ImLFuPhb0Wjo"
      }
    },
    {
      "cell_type": "markdown",
      "source": [
        "LEIA UM NÚMERO INTEIRO E MOSTRE O CUBO ATÉ ESSE NÚMERO."
      ],
      "metadata": {
        "id": "JRyEu2kb0XZb"
      }
    },
    {
      "cell_type": "code",
      "source": [],
      "metadata": {
        "id": "go1xpKWf0Znx"
      },
      "execution_count": null,
      "outputs": []
    },
    {
      "cell_type": "markdown",
      "source": [
        "##57"
      ],
      "metadata": {
        "id": "YevBdNaO0qIw"
      }
    },
    {
      "cell_type": "markdown",
      "source": [
        "FAÇA UM PROGRAMA QUE LEIA UM NÚMERO INTEIRO POSITIVO N E IMPRIMA TODOS OS NÚMEROS NATURAIS DE 0 ATÉ N EM ORDEM DECRESCENTE "
      ],
      "metadata": {
        "id": "Rmcqj3UK0rF-"
      }
    },
    {
      "cell_type": "code",
      "source": [],
      "metadata": {
        "id": "V-twEbrg0uLA"
      },
      "execution_count": null,
      "outputs": []
    },
    {
      "cell_type": "markdown",
      "source": [
        "##58"
      ],
      "metadata": {
        "id": "fLOlGR7h0ucw"
      }
    },
    {
      "cell_type": "markdown",
      "source": [
        "FAÇA UM PROGRAMA QUE LEIA UM NUMERO INTEIRO POSITIVO N E IMPRIMA TODOS OS NÚMEROS NATURAIS DE 0 ATÉ N EM ORDEM CRESCENTE."
      ],
      "metadata": {
        "id": "SvuLfswU0vWY"
      }
    },
    {
      "cell_type": "code",
      "source": [],
      "metadata": {
        "id": "IY2dEL5d0yDW"
      },
      "execution_count": null,
      "outputs": []
    },
    {
      "cell_type": "markdown",
      "source": [
        "##59"
      ],
      "metadata": {
        "id": "UDWRVPXM0yMt"
      }
    },
    {
      "cell_type": "markdown",
      "source": [
        "LEIA UM NÚMERO INTEIRO, E CONTE O NÚMERO TOTAL DE DÍGITOS. EX: 3 (1 DÍGITO), 10 ( 2 DÍGITOS), 233 ( 3 DÍGITOS), ETC."
      ],
      "metadata": {
        "id": "kXMM66xz0zFE"
      }
    },
    {
      "cell_type": "code",
      "source": [],
      "metadata": {
        "id": "s22gIeks003d"
      },
      "execution_count": null,
      "outputs": []
    },
    {
      "cell_type": "markdown",
      "source": [
        "##60"
      ],
      "metadata": {
        "id": "N-7DXl2J01Dk"
      }
    },
    {
      "cell_type": "markdown",
      "source": [
        "FAÇA UM PROGRAMA QUE IMPRIME A SOMA DE TODOS OS NÚMEROS ÍMPARES ENTRE DOIS NÚMEROS QUAISQUER, INCLUINDO- OS."
      ],
      "metadata": {
        "id": "wn2JgwjY01wF"
      }
    },
    {
      "cell_type": "code",
      "source": [],
      "metadata": {
        "id": "-xlPEtbj08tP"
      },
      "execution_count": null,
      "outputs": []
    },
    {
      "cell_type": "markdown",
      "source": [
        "##61"
      ],
      "metadata": {
        "id": "LE6oM-Ww09EZ"
      }
    },
    {
      "cell_type": "markdown",
      "source": [
        "ESCREVA UM PROGRAMA PARA SOMAR TODOS OS I TENS EM UMA L ISTA."
      ],
      "metadata": {
        "id": "kUHP72Oz090n"
      }
    },
    {
      "cell_type": "code",
      "source": [],
      "metadata": {
        "id": "PzGTt0EI0_-g"
      },
      "execution_count": null,
      "outputs": []
    },
    {
      "cell_type": "markdown",
      "source": [
        "##62"
      ],
      "metadata": {
        "id": "MCNEUoEt1AMf"
      }
    },
    {
      "cell_type": "markdown",
      "source": [
        "ESCREVA UM PROGRAMA PARA MULTIPLICAR TODOS OS I TENS DE UMA L ISTA"
      ],
      "metadata": {
        "id": "iP5eBtCE1BcZ"
      }
    },
    {
      "cell_type": "code",
      "source": [],
      "metadata": {
        "id": "HuxgFht71DOr"
      },
      "execution_count": null,
      "outputs": []
    },
    {
      "cell_type": "markdown",
      "source": [
        "##63"
      ],
      "metadata": {
        "id": "y5p5S6-z1ERi"
      }
    },
    {
      "cell_type": "markdown",
      "source": [
        "ESCREVA UM PROGRAMA PARA OBTER O MAIOR NÚMERO DE UMA L ISTA."
      ],
      "metadata": {
        "id": "krzJKU1o1G5K"
      }
    },
    {
      "cell_type": "code",
      "source": [],
      "metadata": {
        "id": "TF1SU4Jd1HYK"
      },
      "execution_count": null,
      "outputs": []
    },
    {
      "cell_type": "markdown",
      "source": [
        "##64"
      ],
      "metadata": {
        "id": "qaAZXmce1HiI"
      }
    },
    {
      "cell_type": "markdown",
      "source": [
        "ESCREVA UM PROGRAMA PARA OBTER O MENOR NÚMERO DE UMA L ISTA."
      ],
      "metadata": {
        "id": "PP1d5ivo1JO6"
      }
    },
    {
      "cell_type": "code",
      "source": [],
      "metadata": {
        "id": "4Q_M_GX21KQ7"
      },
      "execution_count": null,
      "outputs": []
    },
    {
      "cell_type": "markdown",
      "source": [
        "##65"
      ],
      "metadata": {
        "id": "INI1x-NQ1KYs"
      }
    },
    {
      "cell_type": "markdown",
      "source": [
        "ESCREVA UM PROGRAMA PARA REMOVER DUPLICATAS DE UMA L ISTA."
      ],
      "metadata": {
        "id": "0QQ9I5kl1OHG"
      }
    },
    {
      "cell_type": "code",
      "source": [],
      "metadata": {
        "id": "7pSvy0CT1OnH"
      },
      "execution_count": null,
      "outputs": []
    },
    {
      "cell_type": "markdown",
      "source": [
        "##66"
      ],
      "metadata": {
        "id": "I1oZ5nKG1Ou0"
      }
    },
    {
      "cell_type": "markdown",
      "source": [
        "ESCREVA UM PROGRAMA PARA COPIAR UMA L ISTA PARA OUTRA."
      ],
      "metadata": {
        "id": "kvKB1PvV1Quj"
      }
    },
    {
      "cell_type": "code",
      "source": [],
      "metadata": {
        "id": "rngIbEhW1RaN"
      },
      "execution_count": null,
      "outputs": []
    },
    {
      "cell_type": "markdown",
      "source": [
        "##67"
      ],
      "metadata": {
        "id": "UZxxoFnR1Rj1"
      }
    },
    {
      "cell_type": "markdown",
      "source": [
        "ESCREVA UM PROGRAMA QUE RECEBA DUAS LISTAS E RETORNE TRUE SE ELAS TIVEREM PELO MENOS UM ELEMENTO EM COMUM.\n"
      ],
      "metadata": {
        "id": "pWTjLHEn1SXj"
      }
    },
    {
      "cell_type": "code",
      "source": [],
      "metadata": {
        "id": "xK9c83Il1VHv"
      },
      "execution_count": null,
      "outputs": []
    },
    {
      "cell_type": "markdown",
      "source": [
        "##68"
      ],
      "metadata": {
        "id": "R_LBkzL51Ugl"
      }
    },
    {
      "cell_type": "markdown",
      "source": [
        "ESCREVA UM PROGRAMA PARA CRIAR UMA TUPLA."
      ],
      "metadata": {
        "id": "KelLiUaq1XBt"
      }
    },
    {
      "cell_type": "code",
      "source": [],
      "metadata": {
        "id": "kb79RpA11Yxx"
      },
      "execution_count": null,
      "outputs": []
    },
    {
      "cell_type": "markdown",
      "source": [
        "##69"
      ],
      "metadata": {
        "id": "F9i0ExrX1ZAn"
      }
    },
    {
      "cell_type": "markdown",
      "source": [
        "ESCREVA UM PROGRAMA PARA CRIAR UMA TUPLA COM DIFERENTES T IPOS DE DADOS."
      ],
      "metadata": {
        "id": "LXpiZhz61aT6"
      }
    },
    {
      "cell_type": "code",
      "source": [],
      "metadata": {
        "id": "AM4MgSaz1b6p"
      },
      "execution_count": null,
      "outputs": []
    },
    {
      "cell_type": "markdown",
      "source": [
        "##70"
      ],
      "metadata": {
        "id": "p8J9gveW1cCA"
      }
    },
    {
      "cell_type": "markdown",
      "source": [
        "ESCREVA UM PROGRAMA PARA CRIAR UMA TUPLA COM NÚMEROS E IMPRIMIR UM I TEM."
      ],
      "metadata": {
        "id": "-t3at32n1cuw"
      }
    },
    {
      "cell_type": "code",
      "source": [],
      "metadata": {
        "id": "rjlyNF7d1eoP"
      },
      "execution_count": null,
      "outputs": []
    },
    {
      "cell_type": "markdown",
      "source": [
        "##71"
      ],
      "metadata": {
        "id": "MckORG2n1evS"
      }
    },
    {
      "cell_type": "markdown",
      "source": [
        "ESCREVA UM PROGRAMA PARA ADICIONAR UM I TEM EM UMA TUPLA."
      ],
      "metadata": {
        "id": "gqWuTh1g1fUZ"
      }
    },
    {
      "cell_type": "code",
      "source": [],
      "metadata": {
        "id": "sgIjnZEV1g2C"
      },
      "execution_count": null,
      "outputs": []
    },
    {
      "cell_type": "markdown",
      "source": [
        "##72"
      ],
      "metadata": {
        "id": "qp_rpCck1g_N"
      }
    },
    {
      "cell_type": "markdown",
      "source": [
        "ESCREVA UM PROGRAMA PARA OBTER O 4 º ELEMENTO E O ÚLTIMO DE UMA TUPLA."
      ],
      "metadata": {
        "id": "X8TREiz11hj6"
      }
    },
    {
      "cell_type": "code",
      "source": [],
      "metadata": {
        "id": "c7xaN1m61i-9"
      },
      "execution_count": null,
      "outputs": []
    },
    {
      "cell_type": "markdown",
      "source": [
        "##73"
      ],
      "metadata": {
        "id": "5o1aSooA1jDG"
      }
    },
    {
      "cell_type": "markdown",
      "source": [
        "ESCREVA UM PROGRAMA PARA ENCONTRAR OS I TENS REPETIDOS DE UMA TUPLA.\n"
      ],
      "metadata": {
        "id": "VPSXLUni1jjx"
      }
    },
    {
      "cell_type": "code",
      "source": [],
      "metadata": {
        "id": "6sQg8TOH1t11"
      },
      "execution_count": null,
      "outputs": []
    },
    {
      "cell_type": "markdown",
      "source": [
        "##74"
      ],
      "metadata": {
        "id": "qMwYn7jv1uC9"
      }
    },
    {
      "cell_type": "markdown",
      "source": [
        "ESCREVA UM PROGRAMA PARA CONVERTER UMA L ISTA EM UMA TUPLA."
      ],
      "metadata": {
        "id": "wXkKAvCV1vq3"
      }
    },
    {
      "cell_type": "code",
      "source": [],
      "metadata": {
        "id": "OnZlpl_O1yQG"
      },
      "execution_count": null,
      "outputs": []
    },
    {
      "cell_type": "markdown",
      "source": [
        "##75"
      ],
      "metadata": {
        "id": "TL2JYE3B1yXi"
      }
    },
    {
      "cell_type": "markdown",
      "source": [
        "ESCREVA UM PROGRAMA PARA ADICIONAR UMA CHAVE A UM DICIONÁRIO."
      ],
      "metadata": {
        "id": "Ucyw0FzQ1zYF"
      }
    },
    {
      "cell_type": "code",
      "source": [],
      "metadata": {
        "id": "EBOzYYAU121I"
      },
      "execution_count": null,
      "outputs": []
    },
    {
      "cell_type": "markdown",
      "source": [
        "##76"
      ],
      "metadata": {
        "id": "u3mRv-SM129H"
      }
    },
    {
      "cell_type": "markdown",
      "source": [
        "CRIE DOIS DICIONÁRIOS DIFERENTES E CONCATENE PARA CRIAR UM NOVO."
      ],
      "metadata": {
        "id": "nBj95UH013ya"
      }
    },
    {
      "cell_type": "code",
      "source": [],
      "metadata": {
        "id": "JudTCsyI15fJ"
      },
      "execution_count": null,
      "outputs": []
    },
    {
      "cell_type": "markdown",
      "source": [
        "##77"
      ],
      "metadata": {
        "id": "8bDXLSg415o8"
      }
    },
    {
      "cell_type": "markdown",
      "source": [
        "ESCREVA UM PROGRAMA PARA VERIFICAR SE UMA DETERMINADA CHAVE JÁ EXISTE EM UM DICIONÁRIO."
      ],
      "metadata": {
        "id": "dchrVC-f16g1"
      }
    },
    {
      "cell_type": "code",
      "source": [],
      "metadata": {
        "id": "1nmfA27M18OV"
      },
      "execution_count": null,
      "outputs": []
    },
    {
      "cell_type": "markdown",
      "source": [
        "##78"
      ],
      "metadata": {
        "id": "YtwIPxzq18WG"
      }
    },
    {
      "cell_type": "markdown",
      "source": [
        "ESCREVA UM PROGRAMA PARA I TERAR SOBRE DICIONÁRIOS USANDO LOOPS FOR."
      ],
      "metadata": {
        "id": "G9P3FQHU182g"
      }
    },
    {
      "cell_type": "code",
      "source": [],
      "metadata": {
        "id": "h_sH6f902Ftq"
      },
      "execution_count": null,
      "outputs": []
    },
    {
      "cell_type": "markdown",
      "source": [
        "##79"
      ],
      "metadata": {
        "id": "INbPxBcI1_Oa"
      }
    },
    {
      "cell_type": "markdown",
      "source": [
        "ESCREVA UM PROGRAMA PARA MULTIPLICAR TODOS OS ITENS EM UM DICIONÁRIO."
      ],
      "metadata": {
        "id": "uaikKbRb2AzK"
      }
    },
    {
      "cell_type": "code",
      "source": [],
      "metadata": {
        "id": "oYNbKm2h2CMD"
      },
      "execution_count": null,
      "outputs": []
    },
    {
      "cell_type": "markdown",
      "source": [
        "##80"
      ],
      "metadata": {
        "id": "XDTX2h3_2CWU"
      }
    },
    {
      "cell_type": "markdown",
      "source": [
        "ESCREVA UM PROGRAMA PARA REMOVER UMA CHAVE DE UM DICIONÁRIO"
      ],
      "metadata": {
        "id": "8fV7pKl32Elx"
      }
    },
    {
      "cell_type": "code",
      "source": [],
      "metadata": {
        "id": "0mEt19xD2FJG"
      },
      "execution_count": null,
      "outputs": []
    }
  ]
}