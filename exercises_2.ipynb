{
  "nbformat": 4,
  "nbformat_minor": 0,
  "metadata": {
    "colab": {
      "provenance": [],
      "toc_visible": true,
      "include_colab_link": true
    },
    "kernelspec": {
      "name": "python3",
      "display_name": "Python 3"
    },
    "language_info": {
      "name": "python"
    }
  },
  "cells": [
    {
      "cell_type": "markdown",
      "metadata": {
        "id": "view-in-github",
        "colab_type": "text"
      },
      "source": [
        "<a href=\"https://colab.research.google.com/github/JorgeFreitagAcademic/exercises/blob/main/exercises_2.ipynb\" target=\"_parent\"><img src=\"https://colab.research.google.com/assets/colab-badge.svg\" alt=\"Open In Colab\"/></a>"
      ]
    },
    {
      "cell_type": "markdown",
      "source": [
        "#Bibliotecas Importadas"
      ],
      "metadata": {
        "id": "B1tHMAWvn0cJ"
      }
    },
    {
      "cell_type": "code",
      "execution_count": 1,
      "metadata": {
        "id": "20ACzvYynvXZ"
      },
      "outputs": [],
      "source": [
        "import math\n",
        "import random\n",
        "import string"
      ]
    },
    {
      "cell_type": "markdown",
      "source": [
        "#Exercícios 41 - 80"
      ],
      "metadata": {
        "id": "kmseeCCnoCbn"
      }
    },
    {
      "cell_type": "markdown",
      "source": [
        "##41"
      ],
      "metadata": {
        "id": "tTMVmTOfoGYo"
      }
    },
    {
      "cell_type": "markdown",
      "source": [
        "LEIA UM NÚMERO INTEIRO E IMPRIMA ATÉ O VALOR 0."
      ],
      "metadata": {
        "id": "NloQ2_SRoHX4"
      }
    },
    {
      "cell_type": "code",
      "source": [
        "while True:\n",
        "  try:\n",
        "    numero = int(input('Digite um número inteiro para realizar uma contagem regressiva: '))\n",
        "    while numero >= 0:\n",
        "      print(numero)\n",
        "      numero -= 1\n",
        "    break\n",
        "  except ValueError:\n",
        "    print('Erro')"
      ],
      "metadata": {
        "id": "wQRBBRedoM2q",
        "outputId": "28166a58-597c-4f39-f844-76b0a22142f1",
        "colab": {
          "base_uri": "https://localhost:8080/"
        }
      },
      "execution_count": 18,
      "outputs": [
        {
          "output_type": "stream",
          "name": "stdout",
          "text": [
            "Digite um número inteiro para realizar uma contagem regressiva: t\n",
            "Erro\n",
            "Digite um número inteiro para realizar uma contagem regressiva: 5\n",
            "5\n",
            "4\n",
            "3\n",
            "2\n",
            "1\n",
            "0\n"
          ]
        }
      ]
    },
    {
      "cell_type": "markdown",
      "source": [
        "##42"
      ],
      "metadata": {
        "id": "o7jJYGNXYTIq"
      }
    },
    {
      "cell_type": "markdown",
      "source": [
        "FAÇA UM PROGRAMA QUE IMPRIME A QUANTIDADE DE NÚMEROS PARES DE 100 ATÉ 200, INCLUINDO- OS"
      ],
      "metadata": {
        "id": "oqY9yowOYUs7"
      }
    },
    {
      "cell_type": "code",
      "source": [
        "pares = 0\n",
        "for x in range(100,201):\n",
        "  if x % 2 == 0:\n",
        "    pares += 1\n",
        "print(f'O número de pares entre 100 e 200 é de {pares}')"
      ],
      "metadata": {
        "id": "6sVUYLmaadNN",
        "outputId": "6341b4c5-72fe-4715-cdf7-09b6804a0b70",
        "colab": {
          "base_uri": "https://localhost:8080/"
        }
      },
      "execution_count": null,
      "outputs": [
        {
          "output_type": "stream",
          "name": "stdout",
          "text": [
            "O número de pares entre 100 e 200 é de 51\n"
          ]
        }
      ]
    },
    {
      "cell_type": "markdown",
      "source": [
        "##43"
      ],
      "metadata": {
        "id": "Hik94uGka4ut"
      }
    },
    {
      "cell_type": "markdown",
      "source": [
        "FAÇA UM PROGRAMA PARA CONTAR A QUANTIDADE DE NÚMEROS PARES ENTRE DOIS NÚMEROS QUAISQUER"
      ],
      "metadata": {
        "id": "Mtu9bCAqa55s"
      }
    },
    {
      "cell_type": "code",
      "source": [
        "print('Digite dois valores para receber a quantidade de pares entre estes')\n",
        "valores = []\n",
        "pares = 0\n",
        "while True:\n",
        "  try:\n",
        "    while len(valores) < 2:\n",
        "      valor = int(input('Digite o valor inteiro: '))\n",
        "      valores.append(valor)\n",
        "    break\n",
        "  except ValueError:\n",
        "    print('Erro')\n",
        "for x in range(min(valores),max(valores) + 1):\n",
        "  if x % 2 == 0:\n",
        "    pares += 1\n",
        "print(f'O número de pares entre {min(valores)} e {max(valores)} é de {pares}')"
      ],
      "metadata": {
        "id": "YVQnIm7fa9Au",
        "outputId": "cad762b9-f8b1-46fe-9489-dcdc04f888f4",
        "colab": {
          "base_uri": "https://localhost:8080/"
        }
      },
      "execution_count": null,
      "outputs": [
        {
          "output_type": "stream",
          "name": "stdout",
          "text": [
            "Digite dois valores para receber a quantidade de pares entre estes\n",
            "Digite o valor inteiro: 67\n",
            "Digite o valor inteiro: 15\n",
            "O número de pares entre 15 e 67 é de 26\n"
          ]
        }
      ]
    },
    {
      "cell_type": "markdown",
      "source": [
        "##44"
      ],
      "metadata": {
        "id": "FjdvOKYQuXj3"
      }
    },
    {
      "cell_type": "markdown",
      "source": [
        "FAÇA UM PROGRAMA QUE IMPRIME A SOMA DE TODOS OS NÚMEROS PARES ENTRE DOIS NÚMEROS QUAISQUER, INCLUINDO- OS."
      ],
      "metadata": {
        "id": "RZ6Qkcq3uXaW"
      }
    },
    {
      "cell_type": "code",
      "source": [
        "print('Digite dois valores para receber a quantidade de pares entre estes')\n",
        "valores = []\n",
        "soma = 0\n",
        "while True:\n",
        "  try:\n",
        "    while len(valores) < 2:\n",
        "      valor = int(input('Digite o valor inteiro: '))\n",
        "      valores.append(valor)\n",
        "    break\n",
        "  except ValueError:\n",
        "    print('Erro')\n",
        "for x in range(min(valores),max(valores) + 1):\n",
        "  if x % 2 == 0:\n",
        "    soma += x\n",
        "print(f'A soma dos valores entre {min(valores)} e {max(valores)} é de {soma}')"
      ],
      "metadata": {
        "id": "TlHdzlysuWqf",
        "outputId": "75452741-2aee-4796-999d-8488cd28e2a8",
        "colab": {
          "base_uri": "https://localhost:8080/"
        }
      },
      "execution_count": null,
      "outputs": [
        {
          "output_type": "stream",
          "name": "stdout",
          "text": [
            "Digite dois valores para receber a quantidade de pares entre estes\n",
            "Digite o valor inteiro: 10\n",
            "Digite o valor inteiro: 22\n",
            "A soma dos valores entre 10 e 22 é de 112\n"
          ]
        }
      ]
    },
    {
      "cell_type": "markdown",
      "source": [
        "##45"
      ],
      "metadata": {
        "id": "9ZTpIQMCv1Gr"
      }
    },
    {
      "cell_type": "markdown",
      "source": [
        "FAÇA UM PROGRAMA QUE CALCULE O FATORIAL DE UM NÚMERO."
      ],
      "metadata": {
        "id": "LdNV3ob5v08T"
      }
    },
    {
      "cell_type": "code",
      "source": [
        "while True:\n",
        "  try:\n",
        "    valor = int(input(\"Digite um número: \"))\n",
        "    fat = 1\n",
        "    if valor < 0:\n",
        "      print(\"Digite um número inteiro par\")\n",
        "    elif valor == 0:\n",
        "      print(\"O fatorial de 0 é: 1\")\n",
        "      break\n",
        "    else:\n",
        "      for i in range(1,valor + 1):\n",
        "          fat = fat*i\n",
        "      print(f'O fatorial de {valor} é: {fat}')\n",
        "      break\n",
        "  except ValueError:\n",
        "    print('Deve ser um número')"
      ],
      "metadata": {
        "id": "Fd-cBUjFg0Qc",
        "outputId": "3d19f830-1aaa-47ef-ee1a-fbfef88e7bbd",
        "colab": {
          "base_uri": "https://localhost:8080/"
        }
      },
      "execution_count": null,
      "outputs": [
        {
          "output_type": "stream",
          "name": "stdout",
          "text": [
            "Digite um número: 8\n",
            "O fatorial de 8 é: 40320\n"
          ]
        }
      ]
    },
    {
      "cell_type": "markdown",
      "source": [
        "##46"
      ],
      "metadata": {
        "id": "o8uC4I-6iQZM"
      }
    },
    {
      "cell_type": "markdown",
      "source": [
        "FAÇA UM PROGRAMA QUE DETERMINE O MOSTRE OS CINCO PRIMEIROS MÚLTIPLOS DE  3, CONSIDERANDO NÚMEROS MAIORES QUE 0."
      ],
      "metadata": {
        "id": "Fadql2sBiS9t"
      }
    },
    {
      "cell_type": "code",
      "source": [
        "numbase = 3\n",
        "for multiplo in range(1,6):\n",
        "  print(f'3 x {multiplo} = {3 * multiplo}')"
      ],
      "metadata": {
        "id": "c7hZu7qVieUX",
        "outputId": "a5f235df-d619-4336-b81d-dfd525c603d9",
        "colab": {
          "base_uri": "https://localhost:8080/"
        }
      },
      "execution_count": null,
      "outputs": [
        {
          "output_type": "stream",
          "name": "stdout",
          "text": [
            "3 x 1 = 3\n",
            "3 x 2 = 6\n",
            "3 x 3 = 9\n",
            "3 x 4 = 12\n",
            "3 x 5 = 15\n"
          ]
        }
      ]
    },
    {
      "cell_type": "markdown",
      "source": [
        "##47"
      ],
      "metadata": {
        "id": "1F5iLddHjL_N"
      }
    },
    {
      "cell_type": "markdown",
      "source": [
        "FAÇA UM ALGORITMO UTILIZANDO O COMANDO WHILE QUE MOSTRA UMA CONTAGEM REGRESSIVA NA TELA, INICIANDO EM 10 E TERMINANDO EM  0 . MOSTRAR UMA MENSAGEM “ FIM!”  APÓS A CONTAGEM."
      ],
      "metadata": {
        "id": "GEQioaxhjNnG"
      }
    },
    {
      "cell_type": "code",
      "source": [
        "timer = 10\n",
        "while timer > 0:\n",
        "  print(timer)\n",
        "  timer -= 1\n",
        "print('FIM!')"
      ],
      "metadata": {
        "id": "i3qZ86hbkL2X",
        "outputId": "2bb65f61-a56c-4c4f-be48-ca45516e8643",
        "colab": {
          "base_uri": "https://localhost:8080/"
        }
      },
      "execution_count": null,
      "outputs": [
        {
          "output_type": "stream",
          "name": "stdout",
          "text": [
            "10\n",
            "9\n",
            "8\n",
            "7\n",
            "6\n",
            "5\n",
            "4\n",
            "3\n",
            "2\n",
            "1\n",
            "FIM!\n"
          ]
        }
      ]
    },
    {
      "cell_type": "markdown",
      "source": [
        "##48"
      ],
      "metadata": {
        "id": "byJUQ4Zgkfuu"
      }
    },
    {
      "cell_type": "markdown",
      "source": [
        "FAÇA UM PROGRAMA QUE PEÇA AO USUÁRIO PARA DIGITAR 10 VALORES E SOME- OS."
      ],
      "metadata": {
        "id": "rgcJDmVIkiDl"
      }
    },
    {
      "cell_type": "code",
      "source": [
        "valores = []\n",
        "print('Digite 10 valores para receber a soma total')\n",
        "while True:\n",
        "  try:\n",
        "    while len(valores) < 10:\n",
        "      numero = int(input('Digite os valores: '))\n",
        "      valores.append(numero)\n",
        "    break\n",
        "  except ValueError:\n",
        "    print('Erro')\n",
        "print(f'A soma total é {sum(valores)}')"
      ],
      "metadata": {
        "id": "AjVXwZvmkn8F",
        "outputId": "a229c508-65e2-46da-f34a-86a097e68a9d",
        "colab": {
          "base_uri": "https://localhost:8080/"
        }
      },
      "execution_count": null,
      "outputs": [
        {
          "output_type": "stream",
          "name": "stdout",
          "text": [
            "Digite 10 valores para receber a soma total\n",
            "Digite os valores: 1\n",
            "Digite os valores: 1\n",
            "Digite os valores: 1\n",
            "Digite os valores: 1\n",
            "Digite os valores: 1\n",
            "Digite os valores: 1\n",
            "Digite os valores: 1\n",
            "Digite os valores: 1\n",
            "Digite os valores: 1\n",
            "Digite os valores: 1\n",
            "A soma total é 10\n"
          ]
        }
      ]
    },
    {
      "cell_type": "markdown",
      "source": [
        "##49"
      ],
      "metadata": {
        "id": "AWDDBN9QlNBg"
      }
    },
    {
      "cell_type": "markdown",
      "source": [
        "FAÇA UM PROGRAMA QUE LEIA 10 INTEIROS E IMPRIMA SUA MÉDIA."
      ],
      "metadata": {
        "id": "arkL3eDdlOra"
      }
    },
    {
      "cell_type": "code",
      "source": [
        "valores = []\n",
        "print('Digite 10 valores para receber a média')\n",
        "while True:\n",
        "  try:\n",
        "    while len(valores) < 10:\n",
        "      numero = int(input('Digite os valores: '))\n",
        "      valores.append(numero)\n",
        "    break\n",
        "  except ValueError:\n",
        "    print('Erro')\n",
        "print(f'A soma total é {sum(valores) / 10}')"
      ],
      "metadata": {
        "id": "-MQKcztklTPb",
        "outputId": "c2291877-264d-4a30-e048-80270ddfda79",
        "colab": {
          "base_uri": "https://localhost:8080/"
        }
      },
      "execution_count": null,
      "outputs": [
        {
          "output_type": "stream",
          "name": "stdout",
          "text": [
            "Digite 10 valores para receber a média\n",
            "Digite os valores: 2\n",
            "Digite os valores: 4\n",
            "Digite os valores: 2\n",
            "Digite os valores: 4\n",
            "Digite os valores: 2\n",
            "Digite os valores: 4\n",
            "Digite os valores: 2\n",
            "Digite os valores: 4\n",
            "Digite os valores: 2\n",
            "Digite os valores: 4\n",
            "A soma total é 3.0\n"
          ]
        }
      ]
    },
    {
      "cell_type": "markdown",
      "source": [
        "##50"
      ],
      "metadata": {
        "id": "9tLOHPYllgMe"
      }
    },
    {
      "cell_type": "markdown",
      "source": [
        "FAÇA UM PROGRAMA QUE LEIA 10 INTEIROS POSITIVOS, IGNORANDO NAO POSITIVOS, E IMPRIMA SUA MÉDIA."
      ],
      "metadata": {
        "id": "kf1DZP2klhTW"
      }
    },
    {
      "cell_type": "code",
      "source": [
        "valores = []\n",
        "print('Digite 10 valores positivos para receber a média')\n",
        "while True:\n",
        "  try:\n",
        "    while len(valores) < 10:\n",
        "      numero = int(input('Digite os valores: '))\n",
        "      if numero < 0:\n",
        "        print('Deve ser um número positivo')\n",
        "      else:\n",
        "        valores.append(numero)\n",
        "    break\n",
        "  except ValueError:\n",
        "    print('Erro')\n",
        "print(f'A soma total é {sum(valores) / 10}')"
      ],
      "metadata": {
        "id": "kOCrrEQAlkun",
        "outputId": "71986c88-b4ec-4ba8-fc67-666bf6edb4fd",
        "colab": {
          "base_uri": "https://localhost:8080/"
        }
      },
      "execution_count": null,
      "outputs": [
        {
          "output_type": "stream",
          "name": "stdout",
          "text": [
            "Digite 10 valores positivos para receber a média\n",
            "Digite os valores: 22\n",
            "Digite os valores: -15\n",
            "Deve ser um número positivo\n",
            "Digite os valores: 59\n",
            "Digite os valores: 58\n",
            "Digite os valores: 31\n",
            "Digite os valores: 22\n",
            "Digite os valores: 59\n",
            "Digite os valores: 2\n",
            "Digite os valores: 3\n",
            "Digite os valores: 5\n",
            "Digite os valores: 1\n",
            "A soma total é 26.2\n"
          ]
        }
      ]
    },
    {
      "cell_type": "markdown",
      "source": [
        "##51"
      ],
      "metadata": {
        "id": "MhCTai_pl3Zc"
      }
    },
    {
      "cell_type": "markdown",
      "source": [
        "FAÇA UM PROGRAMA QUE LEIA UM NÚMERO INTEIRO N E DEPOIS IMPRIMA OS N PRIMEIROS NUMEROS NATURAIS ÍMPARES."
      ],
      "metadata": {
        "id": "lJNT7VCHl4hl"
      }
    },
    {
      "cell_type": "code",
      "source": [
        "print('Insira um valor para receber os números naturais ímpares anteriores')\n",
        "while True:\n",
        "  try:\n",
        "    numero = int(input('Digite um número: '))\n",
        "    for x in range(1,numero + 1):\n",
        "      if x % 2 != 0:\n",
        "        print(x)\n",
        "    break\n",
        "  except ValueError:\n",
        "    print('Erro')"
      ],
      "metadata": {
        "id": "bxghk4RHl7Du",
        "outputId": "d4d4bbcf-428e-47a2-af1f-f7902c8026af",
        "colab": {
          "base_uri": "https://localhost:8080/"
        }
      },
      "execution_count": null,
      "outputs": [
        {
          "output_type": "stream",
          "name": "stdout",
          "text": [
            "Insira um valor para receber os números naturais ímpares anteriores\n",
            "Digite um número: 9\n",
            "1\n",
            "3\n",
            "5\n",
            "7\n",
            "9\n"
          ]
        }
      ]
    },
    {
      "cell_type": "markdown",
      "source": [
        "##52"
      ],
      "metadata": {
        "id": "RFwHvofhys8h"
      }
    },
    {
      "cell_type": "markdown",
      "source": [
        "FAÇA UM PROGRAMA QUE CALCULE E MOSTRE A SOMA DOS 50 PRIMEIROS NUMEROS PARES."
      ],
      "metadata": {
        "id": "vCSLFEuTyuQk"
      }
    },
    {
      "cell_type": "code",
      "source": [
        "soma = 0\n",
        "for num in range (1, 51):\n",
        "  if num % 2 == 0:\n",
        "    soma += num\n",
        "print(f'A soma é: {soma}')"
      ],
      "metadata": {
        "id": "q9a_nKUbywli",
        "outputId": "7c8fbbd8-efe9-4cc4-bac9-deaf0129b30f",
        "colab": {
          "base_uri": "https://localhost:8080/"
        }
      },
      "execution_count": null,
      "outputs": [
        {
          "output_type": "stream",
          "name": "stdout",
          "text": [
            "A soma é: 650\n"
          ]
        }
      ]
    },
    {
      "cell_type": "markdown",
      "source": [
        "##53"
      ],
      "metadata": {
        "id": "zJi3JvXbzNl8"
      }
    },
    {
      "cell_type": "markdown",
      "source": [
        "IMPRIMA OS PRIMEIROS 10 NÚMEROS NATURAIS USANDO O LOOP WHILE."
      ],
      "metadata": {
        "id": "-dV0PVFozOis"
      }
    },
    {
      "cell_type": "code",
      "source": [
        "num = 1\n",
        "while num <= 10:\n",
        "  print(num)\n",
        "  num += 1"
      ],
      "metadata": {
        "id": "gkE7r10czNUM",
        "outputId": "28021a3d-7a77-476b-cece-a806c74e141c",
        "colab": {
          "base_uri": "https://localhost:8080/"
        }
      },
      "execution_count": null,
      "outputs": [
        {
          "output_type": "stream",
          "name": "stdout",
          "text": [
            "1\n",
            "2\n",
            "3\n",
            "4\n",
            "5\n",
            "6\n",
            "7\n",
            "8\n",
            "9\n",
            "10\n"
          ]
        }
      ]
    },
    {
      "cell_type": "markdown",
      "source": [
        "##54"
      ],
      "metadata": {
        "id": "JbsYlkkpzfkR"
      }
    },
    {
      "cell_type": "markdown",
      "source": [
        "IMPRIMIR TABUADA DE   UM   DETERMINADO NÚMERO."
      ],
      "metadata": {
        "id": "DFEZyBIezhMJ"
      }
    },
    {
      "cell_type": "code",
      "source": [
        "while True:\n",
        "  try:\n",
        "    numbase = int(input('Digite um número para obter sua tabuada: '))\n",
        "    for num in range(1, 11):\n",
        "      print(f'{numbase} x {num} = {numbase * num}')\n",
        "    break\n",
        "  except ValueError:\n",
        "    print('Erro')"
      ],
      "metadata": {
        "id": "r4gCZaoyzgwz",
        "outputId": "4795d0cc-0d39-4794-ec7c-9463e55b0d96",
        "colab": {
          "base_uri": "https://localhost:8080/"
        }
      },
      "execution_count": null,
      "outputs": [
        {
          "output_type": "stream",
          "name": "stdout",
          "text": [
            "Digite um número para obter sua tabuada: -7\n",
            "-7 x 1 = -7\n",
            "-7 x 2 = -14\n",
            "-7 x 3 = -21\n",
            "-7 x 4 = -28\n",
            "-7 x 5 = -35\n",
            "-7 x 6 = -42\n",
            "-7 x 7 = -49\n",
            "-7 x 8 = -56\n",
            "-7 x 9 = -63\n",
            "-7 x 10 = -70\n"
          ]
        }
      ]
    },
    {
      "cell_type": "markdown",
      "source": [
        "##55"
      ],
      "metadata": {
        "id": "aPn3IgEm0Brr"
      }
    },
    {
      "cell_type": "markdown",
      "source": [
        "EXIBIR NÚMEROS DE -10 A -1 USANDO O LOOP FOR. EXIBIR UMA MENSAGEM \" FEITOOOO\" APÓS A EXECUÇÃO BEM- SUCEDIDA DO LOOP FOR "
      ],
      "metadata": {
        "id": "xD4JSN2j0CwC"
      }
    },
    {
      "cell_type": "code",
      "source": [
        "for num in range(-10, 0):\n",
        "  print(num)\n",
        "print('FEITOOOO')"
      ],
      "metadata": {
        "id": "7xCepAWQ0IIT",
        "outputId": "1ecab079-2804-4727-9bcb-2a1908cd962a",
        "colab": {
          "base_uri": "https://localhost:8080/"
        }
      },
      "execution_count": null,
      "outputs": [
        {
          "output_type": "stream",
          "name": "stdout",
          "text": [
            "-10\n",
            "-9\n",
            "-8\n",
            "-7\n",
            "-6\n",
            "-5\n",
            "-4\n",
            "-3\n",
            "-2\n",
            "-1\n",
            "FEITOOOO\n"
          ]
        }
      ]
    },
    {
      "cell_type": "markdown",
      "source": [
        "##56"
      ],
      "metadata": {
        "id": "ImLFuPhb0Wjo"
      }
    },
    {
      "cell_type": "markdown",
      "source": [
        "LEIA UM NÚMERO INTEIRO E MOSTRE O CUBO ATÉ ESSE NÚMERO."
      ],
      "metadata": {
        "id": "JRyEu2kb0XZb"
      }
    },
    {
      "cell_type": "code",
      "source": [
        "while True:\n",
        "  try:\n",
        "    num = int(input('Digite um número: '))\n",
        "    numcubo = num ** 3\n",
        "    for x in range(num, numcubo):\n",
        "      print(x)\n",
        "    break\n",
        "  except ValueError:\n",
        "    print('Erro')"
      ],
      "metadata": {
        "id": "go1xpKWf0Znx",
        "outputId": "7e73bdd0-3c70-4c24-80f5-5c448a0267b1",
        "colab": {
          "base_uri": "https://localhost:8080/"
        }
      },
      "execution_count": null,
      "outputs": [
        {
          "output_type": "stream",
          "name": "stdout",
          "text": [
            "Digite um número: 2\n",
            "2\n",
            "3\n",
            "4\n",
            "5\n",
            "6\n",
            "7\n"
          ]
        }
      ]
    },
    {
      "cell_type": "markdown",
      "source": [
        "##57"
      ],
      "metadata": {
        "id": "YevBdNaO0qIw"
      }
    },
    {
      "cell_type": "markdown",
      "source": [
        "FAÇA UM PROGRAMA QUE LEIA UM NÚMERO INTEIRO POSITIVO N E IMPRIMA TODOS OS NÚMEROS NATURAIS DE 0 ATÉ N EM ORDEM DECRESCENTE "
      ],
      "metadata": {
        "id": "Rmcqj3UK0rF-"
      }
    },
    {
      "cell_type": "code",
      "source": [
        "while True:\n",
        "  try:\n",
        "    num = int(input('Digite um número inteiro positivo: '))\n",
        "    for x in range(num, 0, -1):\n",
        "      print(x)\n",
        "    break\n",
        "  except ValueError:\n",
        "    print('Erro')"
      ],
      "metadata": {
        "id": "V-twEbrg0uLA",
        "outputId": "bde540db-4ab6-45dc-9d1d-4492d8a0920d",
        "colab": {
          "base_uri": "https://localhost:8080/"
        }
      },
      "execution_count": null,
      "outputs": [
        {
          "output_type": "stream",
          "name": "stdout",
          "text": [
            "Digite um número inteiro positivo: 5\n",
            "5\n",
            "4\n",
            "3\n",
            "2\n",
            "1\n"
          ]
        }
      ]
    },
    {
      "cell_type": "markdown",
      "source": [
        "##58"
      ],
      "metadata": {
        "id": "fLOlGR7h0ucw"
      }
    },
    {
      "cell_type": "markdown",
      "source": [
        "FAÇA UM PROGRAMA QUE LEIA UM NUMERO INTEIRO POSITIVO N E IMPRIMA TODOS OS NÚMEROS NATURAIS DE 0 ATÉ N EM ORDEM CRESCENTE."
      ],
      "metadata": {
        "id": "SvuLfswU0vWY"
      }
    },
    {
      "cell_type": "code",
      "source": [
        "while True:\n",
        "  try:\n",
        "    num = int(input('Digite um número inteiro positivo: '))\n",
        "    for x in range(1, num + 1):\n",
        "      print(x)\n",
        "    break\n",
        "  except ValueError:\n",
        "    print('Erro')"
      ],
      "metadata": {
        "id": "IY2dEL5d0yDW",
        "outputId": "821c582e-01ea-40d0-e2c8-a09090e21f4c",
        "colab": {
          "base_uri": "https://localhost:8080/"
        }
      },
      "execution_count": null,
      "outputs": [
        {
          "output_type": "stream",
          "name": "stdout",
          "text": [
            "Digite um número inteiro positivo: 5\n",
            "1\n",
            "2\n",
            "3\n",
            "4\n",
            "5\n"
          ]
        }
      ]
    },
    {
      "cell_type": "markdown",
      "source": [
        "##59"
      ],
      "metadata": {
        "id": "UDWRVPXM0yMt"
      }
    },
    {
      "cell_type": "markdown",
      "source": [
        "LEIA UM NÚMERO INTEIRO, E CONTE O NÚMERO TOTAL DE DÍGITOS. EX: 3 (1 DÍGITO), 10 ( 2 DÍGITOS), 233 ( 3 DÍGITOS), ETC."
      ],
      "metadata": {
        "id": "kXMM66xz0zFE"
      }
    },
    {
      "cell_type": "code",
      "source": [
        "d = 0\n",
        "c = 0\n",
        "m = 0\n",
        "while True:\n",
        "  try:\n",
        "    num = int(input('Digite um número: '))\n",
        "    if ()\n",
        "    if (num / 10) > 1:\n",
        "      d += 1\n",
        "    if (num / 100) > 1:\n",
        "      c += 1\n",
        "    if (num / 1000) > 1:\n",
        "      c += 1\n",
        "  except ValueError:\n",
        "    print('Erro')\n",
        "if m > 0:\n",
        "  print(f'{num} tem 4 dígitos')"
      ],
      "metadata": {
        "id": "s22gIeks003d",
        "outputId": "fa4d8f54-13ba-41c5-b880-1e27b50dac6b",
        "colab": {
          "base_uri": "https://localhost:8080/",
          "height": 183
        }
      },
      "execution_count": null,
      "outputs": [
        {
          "output_type": "error",
          "ename": "TypeError",
          "evalue": "ignored",
          "traceback": [
            "\u001b[0;31m---------------------------------------------------------------------------\u001b[0m",
            "\u001b[0;31mTypeError\u001b[0m                                 Traceback (most recent call last)",
            "\u001b[0;32m<ipython-input-26-c78df6d3030c>\u001b[0m in \u001b[0;36m<module>\u001b[0;34m\u001b[0m\n\u001b[1;32m      1\u001b[0m \u001b[0mnum\u001b[0m \u001b[0;34m=\u001b[0m \u001b[0;36m120\u001b[0m\u001b[0;34m\u001b[0m\u001b[0;34m\u001b[0m\u001b[0m\n\u001b[0;32m----> 2\u001b[0;31m \u001b[0mprint\u001b[0m\u001b[0;34m(\u001b[0m\u001b[0mnum\u001b[0m\u001b[0;34m[\u001b[0m\u001b[0;36m1\u001b[0m\u001b[0;34m]\u001b[0m\u001b[0;34m)\u001b[0m\u001b[0;34m\u001b[0m\u001b[0;34m\u001b[0m\u001b[0m\n\u001b[0m",
            "\u001b[0;31mTypeError\u001b[0m: 'int' object is not subscriptable"
          ]
        }
      ]
    },
    {
      "cell_type": "markdown",
      "source": [
        "##60"
      ],
      "metadata": {
        "id": "N-7DXl2J01Dk"
      }
    },
    {
      "cell_type": "markdown",
      "source": [
        "FAÇA UM PROGRAMA QUE IMPRIME A SOMA DE TODOS OS NÚMEROS ÍMPARES ENTRE DOIS NÚMEROS QUAISQUER, INCLUINDO- OS."
      ],
      "metadata": {
        "id": "wn2JgwjY01wF"
      }
    },
    {
      "cell_type": "code",
      "source": [
        "lista_impares = []\n",
        "while True:\n",
        "  try:\n",
        "    prinum = int(input('Digite o primeiro número: '))\n",
        "    segnum = int(input('Digite o segundo número: '))\n",
        "    for num in range(prinum, segnum + 1):\n",
        "      if (num % 2) != 0:\n",
        "        lista_impares.append(num)\n",
        "    break\n",
        "  except ValueError:\n",
        "    print('Erro')\n",
        "print(sum(lista_impares))"
      ],
      "metadata": {
        "id": "tZnNfsJpdJm2",
        "outputId": "01ccfbe1-6867-488d-cb9e-e27545dac437",
        "colab": {
          "base_uri": "https://localhost:8080/"
        }
      },
      "execution_count": null,
      "outputs": [
        {
          "output_type": "stream",
          "name": "stdout",
          "text": [
            "Digite o primeiro número: 4\n",
            "Digite o segundo número: 82\n",
            "1677\n"
          ]
        }
      ]
    },
    {
      "cell_type": "markdown",
      "source": [
        "EXTRA: NUMEROS PRIMOS"
      ],
      "metadata": {
        "id": "hJHZwwIyd8vs"
      }
    },
    {
      "cell_type": "code",
      "source": [
        "lista = []\n",
        "prinum = int(input('Digite o primeiro número: '))\n",
        "segnum = int(input('Digite o segundo número: '))\n",
        "for num in range(prinum, segnum + 1):\n",
        "  lista.append(num)\n",
        "  if 1 in lista:\n",
        "    lista.remove(1)\n",
        "  for div in range(2,num):\n",
        "    if (num % div) == 0:\n",
        "      if num in lista:\n",
        "        lista.remove(num)\n",
        "print(lista)\n",
        "print(sum(lista))"
      ],
      "metadata": {
        "id": "cbV_yN_YiND_",
        "outputId": "6d96b0a5-d311-4fa1-89d8-a4975c95f38f",
        "colab": {
          "base_uri": "https://localhost:8080/"
        }
      },
      "execution_count": null,
      "outputs": [
        {
          "output_type": "stream",
          "name": "stdout",
          "text": [
            "Digite o primeiro número: 1\n",
            "Digite o segundo número: 50\n",
            "[2, 3, 5, 7, 11, 13, 17, 19, 23, 29, 31, 37, 41, 43, 47]\n",
            "328\n"
          ]
        }
      ]
    },
    {
      "cell_type": "markdown",
      "source": [
        "##61"
      ],
      "metadata": {
        "id": "LE6oM-Ww09EZ"
      }
    },
    {
      "cell_type": "markdown",
      "source": [
        "ESCREVA UM PROGRAMA PARA SOMAR TODOS OS I TENS EM UMA L ISTA."
      ],
      "metadata": {
        "id": "kUHP72Oz090n"
      }
    },
    {
      "cell_type": "code",
      "source": [
        "# random list generator (Integer version)\n",
        "lista = []\n",
        "listlen = random.randint(1, 21)\n",
        "while len(lista) < listlen:\n",
        "  for x in range(1, listlen + 1):\n",
        "    x = x * random.randint(1, 91)\n",
        "    lista.append(x)\n",
        "# Programa\n",
        "print(lista)\n",
        "soma = 0\n",
        "for reader in lista:\n",
        "  soma += reader\n",
        "print(soma)"
      ],
      "metadata": {
        "id": "PzGTt0EI0_-g",
        "outputId": "35887b58-9fb5-4743-d6da-3dc3e065b1c0",
        "colab": {
          "base_uri": "https://localhost:8080/"
        }
      },
      "execution_count": null,
      "outputs": [
        {
          "output_type": "stream",
          "name": "stdout",
          "text": [
            "[32, 150, 21, 236, 155, 390]\n",
            "984\n"
          ]
        }
      ]
    },
    {
      "cell_type": "markdown",
      "source": [
        "##62"
      ],
      "metadata": {
        "id": "MCNEUoEt1AMf"
      }
    },
    {
      "cell_type": "markdown",
      "source": [
        "ESCREVA UM PROGRAMA PARA MULTIPLICAR TODOS OS I TENS DE UMA L ISTA"
      ],
      "metadata": {
        "id": "iP5eBtCE1BcZ"
      }
    },
    {
      "cell_type": "code",
      "source": [
        "# random list generator (Integer version)\n",
        "lista = []\n",
        "listlen = random.randint(1, 21)\n",
        "while len(lista) < listlen:\n",
        "  for x in range(1, listlen + 1):\n",
        "    x = x * random.randint(1, 91)\n",
        "    lista.append(x)\n",
        "# Programa\n",
        "print(lista)\n",
        "mult = 1\n",
        "for reader in lista:\n",
        "  mult *= reader\n",
        "print(mult)"
      ],
      "metadata": {
        "id": "HuxgFht71DOr",
        "outputId": "296d0a6f-3314-4093-dfd9-2890094bb930",
        "colab": {
          "base_uri": "https://localhost:8080/"
        }
      },
      "execution_count": null,
      "outputs": [
        {
          "output_type": "stream",
          "name": "stdout",
          "text": [
            "[27, 58, 132, 292, 365, 264]\n",
            "5816280349440\n"
          ]
        }
      ]
    },
    {
      "cell_type": "markdown",
      "source": [
        "##63"
      ],
      "metadata": {
        "id": "y5p5S6-z1ERi"
      }
    },
    {
      "cell_type": "markdown",
      "source": [
        "ESCREVA UM PROGRAMA PARA OBTER O MAIOR NÚMERO DE UMA L ISTA."
      ],
      "metadata": {
        "id": "krzJKU1o1G5K"
      }
    },
    {
      "cell_type": "code",
      "source": [
        "# random list generator (Integer version)\n",
        "lista = []\n",
        "listlen = random.randint(1, 21)\n",
        "while len(lista) < listlen:\n",
        "  for x in range(1, listlen + 1):\n",
        "    x = x * random.randint(1, 91)\n",
        "    lista.append(x)\n",
        "# Programa\n",
        "print(lista)\n",
        "print(max(lista))"
      ],
      "metadata": {
        "id": "TF1SU4Jd1HYK",
        "outputId": "3498c3a8-3362-4e68-cb41-7bdf31adf5b4",
        "colab": {
          "base_uri": "https://localhost:8080/"
        }
      },
      "execution_count": null,
      "outputs": [
        {
          "output_type": "stream",
          "name": "stdout",
          "text": [
            "[64, 156, 84, 124, 350, 444, 364, 208, 108, 610, 792, 636, 325, 938, 690, 1312, 884, 486]\n",
            "1312\n"
          ]
        }
      ]
    },
    {
      "cell_type": "markdown",
      "source": [
        "##64"
      ],
      "metadata": {
        "id": "qaAZXmce1HiI"
      }
    },
    {
      "cell_type": "markdown",
      "source": [
        "ESCREVA UM PROGRAMA PARA OBTER O MENOR NÚMERO DE UMA L ISTA."
      ],
      "metadata": {
        "id": "PP1d5ivo1JO6"
      }
    },
    {
      "cell_type": "code",
      "source": [
        "# random list generator (Integer version)\n",
        "lista = []\n",
        "listlen = random.randint(1, 21)\n",
        "while len(lista) < listlen:\n",
        "  for x in range(1, listlen + 1):\n",
        "    x = x * random.randint(1, 91)\n",
        "    lista.append(x)\n",
        "# Programa\n",
        "print(lista)\n",
        "print(min(lista))"
      ],
      "metadata": {
        "id": "4Q_M_GX21KQ7",
        "outputId": "64d7a39f-4f08-44a6-c984-acdf7a33f67b",
        "colab": {
          "base_uri": "https://localhost:8080/"
        }
      },
      "execution_count": null,
      "outputs": [
        {
          "output_type": "stream",
          "name": "stdout",
          "text": [
            "[15, 64, 123, 60, 310, 252, 49, 240, 297, 780, 649, 684, 1170, 826, 1110, 1328]\n",
            "15\n"
          ]
        }
      ]
    },
    {
      "cell_type": "markdown",
      "source": [
        "##65"
      ],
      "metadata": {
        "id": "INI1x-NQ1KYs"
      }
    },
    {
      "cell_type": "markdown",
      "source": [
        "ESCREVA UM PROGRAMA PARA REMOVER DUPLICATAS DE UMA L ISTA."
      ],
      "metadata": {
        "id": "0QQ9I5kl1OHG"
      }
    },
    {
      "cell_type": "code",
      "source": [
        "# random list generator (Integer version)\n",
        "lista = []\n",
        "listlen = random.randint(1, 11)\n",
        "while len(lista) < listlen:\n",
        "  for x in range(1, listlen + 1):\n",
        "    x = x * random.randint(1, 11)\n",
        "    lista.append(x)\n",
        "# Programa\n",
        "print(lista)\n",
        "print(set(lista))"
      ],
      "metadata": {
        "id": "7pSvy0CT1OnH",
        "outputId": "d68bdff3-1642-4a7a-a9b8-4a1996757a0e",
        "colab": {
          "base_uri": "https://localhost:8080/"
        }
      },
      "execution_count": null,
      "outputs": [
        {
          "output_type": "stream",
          "name": "stdout",
          "text": [
            "[3, 10, 9, 36, 10]\n",
            "{9, 10, 3, 36}\n"
          ]
        }
      ]
    },
    {
      "cell_type": "markdown",
      "source": [
        "##66"
      ],
      "metadata": {
        "id": "I1oZ5nKG1Ou0"
      }
    },
    {
      "cell_type": "markdown",
      "source": [
        "ESCREVA UM PROGRAMA PARA COPIAR UMA L ISTA PARA OUTRA."
      ],
      "metadata": {
        "id": "kvKB1PvV1Quj"
      }
    },
    {
      "cell_type": "code",
      "source": [
        "# random list generator (Integer version)\n",
        "lista = []\n",
        "listlen = random.randint(1, 11)\n",
        "while len(lista) < listlen:\n",
        "  for x in range(1, listlen + 1):\n",
        "    x = x * random.randint(1, 11)\n",
        "    lista.append(x)\n",
        "# Programa\n",
        "copia = []\n",
        "print(lista)\n",
        "for reader in lista:\n",
        "  copia.append(reader)\n",
        "print(copia)"
      ],
      "metadata": {
        "id": "rngIbEhW1RaN",
        "outputId": "73452f84-327c-480d-b606-410d0ed952e2",
        "colab": {
          "base_uri": "https://localhost:8080/"
        }
      },
      "execution_count": null,
      "outputs": [
        {
          "output_type": "stream",
          "name": "stdout",
          "text": [
            "[5, 18, 24, 24, 15, 54, 42, 80]\n",
            "[5, 18, 24, 24, 15, 54, 42, 80]\n"
          ]
        }
      ]
    },
    {
      "cell_type": "markdown",
      "source": [
        "##67"
      ],
      "metadata": {
        "id": "UZxxoFnR1Rj1"
      }
    },
    {
      "cell_type": "markdown",
      "source": [
        "ESCREVA UM PROGRAMA QUE RECEBA DUAS LISTAS E RETORNE TRUE SE ELAS TIVEREM PELO MENOS UM ELEMENTO EM COMUM.\n"
      ],
      "metadata": {
        "id": "pWTjLHEn1SXj"
      }
    },
    {
      "cell_type": "code",
      "source": [
        "lista1 = []\n",
        "lista2 = []\n",
        "listlen = random.randint(1, 6)\n",
        "while len(lista1) < listlen:\n",
        "  for x in range(1, listlen + 1):\n",
        "    x = random.randint(1, 11)\n",
        "    lista1.append(x)\n",
        "while len(lista2) < listlen:\n",
        "  for x in range(1, listlen + 1):\n",
        "    x = random.randint(1, 11)\n",
        "    lista2.append(x)\n",
        "print(lista1)\n",
        "print(lista2)\n",
        "true = 0\n",
        "for num1 in lista1:\n",
        "  for num2 in lista2:\n",
        "    if num1 == num2:\n",
        "      true += 1\n",
        "if true > 0:\n",
        "  print(True)\n",
        "else:\n",
        "  print(False)"
      ],
      "metadata": {
        "id": "xK9c83Il1VHv",
        "outputId": "89235451-e72a-4a7f-a6f7-d94705760426",
        "colab": {
          "base_uri": "https://localhost:8080/"
        }
      },
      "execution_count": null,
      "outputs": [
        {
          "output_type": "stream",
          "name": "stdout",
          "text": [
            "[11, 6, 4, 2]\n",
            "[2, 5, 9, 6]\n",
            "True\n"
          ]
        }
      ]
    },
    {
      "cell_type": "markdown",
      "source": [
        "##68"
      ],
      "metadata": {
        "id": "R_LBkzL51Ugl"
      }
    },
    {
      "cell_type": "markdown",
      "source": [
        "ESCREVA UM PROGRAMA PARA CRIAR UMA TUPLA."
      ],
      "metadata": {
        "id": "KelLiUaq1XBt"
      }
    },
    {
      "cell_type": "code",
      "source": [
        "# random list generator (Integer version)\n",
        "lista = []\n",
        "listlen = random.randint(1, 11)\n",
        "while len(lista) < listlen:\n",
        "  for x in range(1, listlen + 1):\n",
        "    x = x * random.randint(1, 11)\n",
        "    lista.append(x)\n",
        "# Programa\n",
        "print(lista)\n",
        "tuple(lista)"
      ],
      "metadata": {
        "id": "kb79RpA11Yxx",
        "outputId": "0d1f7d87-c0c2-47b3-a846-4143962ffbed",
        "colab": {
          "base_uri": "https://localhost:8080/"
        }
      },
      "execution_count": null,
      "outputs": [
        {
          "output_type": "stream",
          "name": "stdout",
          "text": [
            "[6, 18, 21, 32, 45]\n"
          ]
        },
        {
          "output_type": "execute_result",
          "data": {
            "text/plain": [
              "(6, 18, 21, 32, 45)"
            ]
          },
          "metadata": {},
          "execution_count": 129
        }
      ]
    },
    {
      "cell_type": "markdown",
      "source": [
        "##69"
      ],
      "metadata": {
        "id": "F9i0ExrX1ZAn"
      }
    },
    {
      "cell_type": "markdown",
      "source": [
        "ESCREVA UM PROGRAMA PARA CRIAR UMA TUPLA COM DIFERENTES T IPOS DE DADOS."
      ],
      "metadata": {
        "id": "LXpiZhz61aT6"
      }
    },
    {
      "cell_type": "code",
      "source": [
        "tupla = (12, 'afas', True)\n",
        "print(tupla)"
      ],
      "metadata": {
        "id": "AM4MgSaz1b6p",
        "outputId": "2702dd71-036e-4dab-c146-0071db303302",
        "colab": {
          "base_uri": "https://localhost:8080/"
        }
      },
      "execution_count": null,
      "outputs": [
        {
          "output_type": "stream",
          "name": "stdout",
          "text": [
            "(12, 'afas', True)\n"
          ]
        }
      ]
    },
    {
      "cell_type": "markdown",
      "source": [
        "##70"
      ],
      "metadata": {
        "id": "p8J9gveW1cCA"
      }
    },
    {
      "cell_type": "markdown",
      "source": [
        "ESCREVA UM PROGRAMA PARA CRIAR UMA TUPLA COM NÚMEROS E IMPRIMIR UM I TEM."
      ],
      "metadata": {
        "id": "-t3at32n1cuw"
      }
    },
    {
      "cell_type": "code",
      "source": [
        "tupla = (2, 4, 18, 28, 55, 6)\n",
        "print(lista)\n",
        "num = random.randint(1, listlen)\n",
        "print(lista[num])"
      ],
      "metadata": {
        "id": "rjlyNF7d1eoP",
        "outputId": "945afb93-e110-4d5b-eb34-7aa314eee19e",
        "colab": {
          "base_uri": "https://localhost:8080/"
        }
      },
      "execution_count": null,
      "outputs": [
        {
          "output_type": "stream",
          "name": "stdout",
          "text": [
            "[2, 4, 18, 28, 55, 6]\n",
            "4\n"
          ]
        }
      ]
    },
    {
      "cell_type": "markdown",
      "source": [
        "##71"
      ],
      "metadata": {
        "id": "MckORG2n1evS"
      }
    },
    {
      "cell_type": "markdown",
      "source": [
        "ESCREVA UM PROGRAMA PARA ADICIONAR UM I TEM EM UMA TUPLA."
      ],
      "metadata": {
        "id": "gqWuTh1g1fUZ"
      }
    },
    {
      "cell_type": "code",
      "source": [
        "tupla = (2, 4, 18, 28, 55, 6)\n",
        "lista = list(tupla)\n",
        "lista.append(3)\n",
        "tupla = tuple(lista)\n",
        "print(tupla)"
      ],
      "metadata": {
        "id": "sgIjnZEV1g2C",
        "outputId": "e35422b0-0dea-43b1-d14c-2e81dc7c6abb",
        "colab": {
          "base_uri": "https://localhost:8080/"
        }
      },
      "execution_count": null,
      "outputs": [
        {
          "output_type": "stream",
          "name": "stdout",
          "text": [
            "(2, 4, 18, 28, 55, 6, 3)\n"
          ]
        }
      ]
    },
    {
      "cell_type": "markdown",
      "source": [
        "##72"
      ],
      "metadata": {
        "id": "qp_rpCck1g_N"
      }
    },
    {
      "cell_type": "markdown",
      "source": [
        "ESCREVA UM PROGRAMA PARA OBTER O 4 º ELEMENTO E O ÚLTIMO DE UMA TUPLA."
      ],
      "metadata": {
        "id": "X8TREiz11hj6"
      }
    },
    {
      "cell_type": "code",
      "source": [
        "tupla = (2, 4, 18, 28, 55, 6)\n",
        "print(tupla[3], tupla[len(tupla) - 1])"
      ],
      "metadata": {
        "id": "c7xaN1m61i-9",
        "outputId": "335cd015-7300-4b37-830e-f63db229b579",
        "colab": {
          "base_uri": "https://localhost:8080/"
        }
      },
      "execution_count": null,
      "outputs": [
        {
          "output_type": "stream",
          "name": "stdout",
          "text": [
            "28 6\n"
          ]
        }
      ]
    },
    {
      "cell_type": "markdown",
      "source": [
        "##73"
      ],
      "metadata": {
        "id": "5o1aSooA1jDG"
      }
    },
    {
      "cell_type": "markdown",
      "source": [
        "ESCREVA UM PROGRAMA PARA ENCONTRAR OS I TENS REPETIDOS DE UMA TUPLA.\n"
      ],
      "metadata": {
        "id": "VPSXLUni1jjx"
      }
    },
    {
      "cell_type": "code",
      "source": [
        "tupla = (2, 4, 18, 28, 55, 6, 18, 4)\n",
        "lista = []\n",
        "for reader in tupla:\n",
        "  lista.append(reader)\n",
        "  print(reader)\n",
        "print(lista)\n",
        "if reader in lista:\n",
        "  print(reader)"
      ],
      "metadata": {
        "id": "6sQg8TOH1t11",
        "outputId": "b6242bf6-519a-48b6-e160-8de535103615",
        "colab": {
          "base_uri": "https://localhost:8080/"
        }
      },
      "execution_count": null,
      "outputs": [
        {
          "output_type": "stream",
          "name": "stdout",
          "text": [
            "2\n",
            "4\n",
            "18\n",
            "28\n",
            "55\n",
            "6\n",
            "18\n",
            "4\n",
            "[2, 4, 18, 28, 55, 6, 18, 4]\n",
            "4\n"
          ]
        }
      ]
    },
    {
      "cell_type": "markdown",
      "source": [
        "##74"
      ],
      "metadata": {
        "id": "qMwYn7jv1uC9"
      }
    },
    {
      "cell_type": "markdown",
      "source": [
        "ESCREVA UM PROGRAMA PARA CONVERTER UMA L ISTA EM UMA TUPLA."
      ],
      "metadata": {
        "id": "wXkKAvCV1vq3"
      }
    },
    {
      "cell_type": "code",
      "source": [
        "# random list generator (Integer version)\n",
        "lista = []\n",
        "listlen = random.randint(1, 21)\n",
        "while len(lista) < listlen:\n",
        "  for x in range(1, listlen + 1):\n",
        "    x = x * random.randint(1, 61)\n",
        "    lista.append(x)\n",
        "# Programa\n",
        "print(lista)\n",
        "tupla = tuple(lista)\n",
        "print(tupla)"
      ],
      "metadata": {
        "id": "OnZlpl_O1yQG",
        "outputId": "3aca878b-e697-4838-95d4-aa71b902d3b5",
        "colab": {
          "base_uri": "https://localhost:8080/"
        }
      },
      "execution_count": null,
      "outputs": [
        {
          "output_type": "stream",
          "name": "stdout",
          "text": [
            "[18, 48, 39, 4, 75, 216, 77, 192, 180]\n",
            "(18, 48, 39, 4, 75, 216, 77, 192, 180)\n"
          ]
        }
      ]
    },
    {
      "cell_type": "markdown",
      "source": [
        "##75"
      ],
      "metadata": {
        "id": "TL2JYE3B1yXi"
      }
    },
    {
      "cell_type": "markdown",
      "source": [
        "ESCREVA UM PROGRAMA PARA ADICIONAR UMA CHAVE A UM DICIONÁRIO."
      ],
      "metadata": {
        "id": "Ucyw0FzQ1zYF"
      }
    },
    {
      "cell_type": "code",
      "source": [
        "dicionario = {'nome': 'julio', 'idade': '22', 'cor': 'verde', 'altura': 1.72, 'massa': 90}\n",
        "dicionario['pai'] = 'pereira'\n",
        "print(dicionario)"
      ],
      "metadata": {
        "id": "EBOzYYAU121I",
        "outputId": "0b0fce43-85f6-4cd5-9d4e-b2732aaf2e3d",
        "colab": {
          "base_uri": "https://localhost:8080/"
        }
      },
      "execution_count": 3,
      "outputs": [
        {
          "output_type": "stream",
          "name": "stdout",
          "text": [
            "{'nome': 'julio', 'idade': '22', 'cor': 'verde', 'altura': 1.72, 'massa': 90, 'pai': 'pereira'}\n"
          ]
        }
      ]
    },
    {
      "cell_type": "markdown",
      "source": [
        "##76"
      ],
      "metadata": {
        "id": "u3mRv-SM129H"
      }
    },
    {
      "cell_type": "markdown",
      "source": [
        "CRIE DOIS DICIONÁRIOS DIFERENTES E CONCATENE PARA CRIAR UM NOVO."
      ],
      "metadata": {
        "id": "nBj95UH013ya"
      }
    },
    {
      "cell_type": "code",
      "source": [
        "dic1 = {'nome': 'jorge', 'idade': '20'}\n",
        "dic2 = {'curso': 'ciencias da computacao', 'periodo': 'noturno'}\n",
        "dic1.update(dic2)\n",
        "print(dic1)"
      ],
      "metadata": {
        "id": "JudTCsyI15fJ",
        "outputId": "d1c4a170-1d56-4730-891e-627d3969c8fc",
        "colab": {
          "base_uri": "https://localhost:8080/"
        }
      },
      "execution_count": 4,
      "outputs": [
        {
          "output_type": "stream",
          "name": "stdout",
          "text": [
            "{'nome': 'jorge', 'idade': '20', 'curso': 'ciencias da computacao', 'periodo': 'noturno'}\n"
          ]
        }
      ]
    },
    {
      "cell_type": "markdown",
      "source": [
        "##77"
      ],
      "metadata": {
        "id": "8bDXLSg415o8"
      }
    },
    {
      "cell_type": "markdown",
      "source": [
        "ESCREVA UM PROGRAMA PARA VERIFICAR SE UMA DETERMINADA CHAVE JÁ EXISTE EM UM DICIONÁRIO."
      ],
      "metadata": {
        "id": "dchrVC-f16g1"
      }
    },
    {
      "cell_type": "code",
      "source": [
        "dicionario = {'nome': 'julio', 'idade': '22', 'cor': 'verde', 'altura': 1.72, 'massa': 90}\n",
        "def checar(dic, key): \n",
        "    if key in dic.keys(): \n",
        "        print('Chave existente') \n",
        "        print(f'Valor da chave = {dic[key]}') \n",
        "    else: \n",
        "        print(\"Not present\") \n",
        "checar(dicionario, 'idade')"
      ],
      "metadata": {
        "id": "1nmfA27M18OV",
        "outputId": "2fa41ea0-00d6-4638-af44-4d6c6e39ef90",
        "colab": {
          "base_uri": "https://localhost:8080/"
        }
      },
      "execution_count": 20,
      "outputs": [
        {
          "output_type": "stream",
          "name": "stdout",
          "text": [
            "Chave existente\n",
            "Valor da chave = 22\n"
          ]
        }
      ]
    },
    {
      "cell_type": "markdown",
      "source": [
        "##78"
      ],
      "metadata": {
        "id": "YtwIPxzq18WG"
      }
    },
    {
      "cell_type": "markdown",
      "source": [
        "ESCREVA UM PROGRAMA PARA I TERAR SOBRE DICIONÁRIOS USANDO LOOPS FOR."
      ],
      "metadata": {
        "id": "G9P3FQHU182g"
      }
    },
    {
      "cell_type": "code",
      "source": [
        "dicionario = {'nome': 'julio', 'idade': '22', 'cor': 'verde', 'altura': 1.72, 'massa': 90}\n",
        "for key, value in dicionario.items():\n",
        "  print(key, ' => ', value)"
      ],
      "metadata": {
        "id": "h_sH6f902Ftq",
        "outputId": "92cce6ad-3028-4f91-d142-d31886158557",
        "colab": {
          "base_uri": "https://localhost:8080/"
        }
      },
      "execution_count": 19,
      "outputs": [
        {
          "output_type": "stream",
          "name": "stdout",
          "text": [
            "nome  =>  julio\n",
            "idade  =>  22\n",
            "cor  =>  verde\n",
            "altura  =>  1.72\n",
            "massa  =>  90\n"
          ]
        }
      ]
    },
    {
      "cell_type": "markdown",
      "source": [
        "##79"
      ],
      "metadata": {
        "id": "INbPxBcI1_Oa"
      }
    },
    {
      "cell_type": "markdown",
      "source": [
        "ESCREVA UM PROGRAMA PARA MULTIPLICAR TODOS OS ITENS EM UM DICIONÁRIO."
      ],
      "metadata": {
        "id": "uaikKbRb2AzK"
      }
    },
    {
      "cell_type": "code",
      "source": [],
      "metadata": {
        "id": "oYNbKm2h2CMD"
      },
      "execution_count": null,
      "outputs": []
    },
    {
      "cell_type": "markdown",
      "source": [
        "##80"
      ],
      "metadata": {
        "id": "XDTX2h3_2CWU"
      }
    },
    {
      "cell_type": "markdown",
      "source": [
        "ESCREVA UM PROGRAMA PARA REMOVER UMA CHAVE DE UM DICIONÁRIO"
      ],
      "metadata": {
        "id": "8fV7pKl32Elx"
      }
    },
    {
      "cell_type": "code",
      "source": [],
      "metadata": {
        "id": "0mEt19xD2FJG"
      },
      "execution_count": null,
      "outputs": []
    },
    {
      "cell_type": "markdown",
      "source": [
        "100"
      ],
      "metadata": {
        "id": "XO9_868ScUnO"
      }
    },
    {
      "cell_type": "code",
      "source": [
        "locals()\n",
        "quant = []\n",
        "def lista_var():\n",
        "  x = 'teste'\n",
        "  y = 'teste2'\n",
        "  z = 'teste3'\n",
        "  for run in locals():\n",
        "    quant.append(run)\n",
        "lista_var()\n",
        "print(len(quant))"
      ],
      "metadata": {
        "id": "6F3oNYN4cUFf",
        "outputId": "44c8c550-7b25-4708-d021-05de047852ee",
        "colab": {
          "base_uri": "https://localhost:8080/"
        }
      },
      "execution_count": 11,
      "outputs": [
        {
          "output_type": "stream",
          "name": "stdout",
          "text": [
            "3\n"
          ]
        }
      ]
    }
  ]
}