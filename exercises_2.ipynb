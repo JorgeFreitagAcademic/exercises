{
  "nbformat": 4,
  "nbformat_minor": 0,
  "metadata": {
    "colab": {
      "provenance": [],
      "authorship_tag": "ABX9TyNzH0ten+kgbirRfeahKEy/",
      "include_colab_link": true
    },
    "kernelspec": {
      "name": "python3",
      "display_name": "Python 3"
    },
    "language_info": {
      "name": "python"
    }
  },
  "cells": [
    {
      "cell_type": "markdown",
      "metadata": {
        "id": "view-in-github",
        "colab_type": "text"
      },
      "source": [
        "<a href=\"https://colab.research.google.com/github/JorgeFreitagAcademic/exercises/blob/main/exercises_2.ipynb\" target=\"_parent\"><img src=\"https://colab.research.google.com/assets/colab-badge.svg\" alt=\"Open In Colab\"/></a>"
      ]
    },
    {
      "cell_type": "markdown",
      "source": [
        "#Bibliotecas Importadas"
      ],
      "metadata": {
        "id": "B1tHMAWvn0cJ"
      }
    },
    {
      "cell_type": "code",
      "execution_count": null,
      "metadata": {
        "id": "20ACzvYynvXZ"
      },
      "outputs": [],
      "source": [
        "import math"
      ]
    },
    {
      "cell_type": "markdown",
      "source": [
        "#Exercícios 41 - 80"
      ],
      "metadata": {
        "id": "kmseeCCnoCbn"
      }
    },
    {
      "cell_type": "markdown",
      "source": [
        "##41"
      ],
      "metadata": {
        "id": "tTMVmTOfoGYo"
      }
    },
    {
      "cell_type": "markdown",
      "source": [
        "LEIA UM NÚMERO INTEIRO E IMPRIMA ATÉ O VALOR 0."
      ],
      "metadata": {
        "id": "NloQ2_SRoHX4"
      }
    },
    {
      "cell_type": "code",
      "source": [
        "while True:\n",
        "  try:\n",
        "    numero = int(input('Digite um número inteiro para realizar uma contagem regressiva: '))\n",
        "    while numero >= 0:\n",
        "      print(numero)\n",
        "      numero -= 1\n",
        "    break\n",
        "  except ValueError:\n",
        "    print('Erro')"
      ],
      "metadata": {
        "id": "wQRBBRedoM2q",
        "outputId": "982dcea5-82e4-43e0-f9f6-7465500a3f01",
        "colab": {
          "base_uri": "https://localhost:8080/"
        }
      },
      "execution_count": 4,
      "outputs": [
        {
          "output_type": "stream",
          "name": "stdout",
          "text": [
            "Digite um número inteiro para realizar uma contagem regressiva: 8\n",
            "8\n",
            "7\n",
            "6\n",
            "5\n",
            "4\n",
            "3\n",
            "2\n",
            "1\n",
            "0\n"
          ]
        }
      ]
    },
    {
      "cell_type": "markdown",
      "source": [
        "##42"
      ],
      "metadata": {
        "id": "o7jJYGNXYTIq"
      }
    },
    {
      "cell_type": "markdown",
      "source": [
        "FAÇA UM PROGRAMA QUE IMPRIME A QUANTIDADE DE NÚMEROS PARES DE 100 ATÉ 200, INCLUINDO- OS"
      ],
      "metadata": {
        "id": "oqY9yowOYUs7"
      }
    },
    {
      "cell_type": "code",
      "source": [
        "pares = 0\n",
        "for x in range(100,201):\n",
        "  if x % 2 == 0:\n",
        "    pares += 1\n",
        "print(f'O número de pares entre 100 e 200 é de {pares}')"
      ],
      "metadata": {
        "id": "6sVUYLmaadNN",
        "outputId": "6341b4c5-72fe-4715-cdf7-09b6804a0b70",
        "colab": {
          "base_uri": "https://localhost:8080/"
        }
      },
      "execution_count": 9,
      "outputs": [
        {
          "output_type": "stream",
          "name": "stdout",
          "text": [
            "O número de pares entre 100 e 200 é de 51\n"
          ]
        }
      ]
    },
    {
      "cell_type": "markdown",
      "source": [
        "##43"
      ],
      "metadata": {
        "id": "Hik94uGka4ut"
      }
    },
    {
      "cell_type": "markdown",
      "source": [
        "FAÇA UM PROGRAMA PARA CONTAR A QUANTIDADE DE NÚMEROS PARES ENTRE DOIS NÚMEROS QUAISQUER"
      ],
      "metadata": {
        "id": "Mtu9bCAqa55s"
      }
    },
    {
      "cell_type": "code",
      "source": [
        "print('Digite dois valores para receber a quantidade de pares entre estes')\n",
        "valores = []\n",
        "pares = 0\n",
        "while True:\n",
        "  try:\n",
        "    while len(valores) < 2:\n",
        "      valor = int(input('Digite o valor inteiro: '))\n",
        "      valores.append(valor)\n",
        "    break\n",
        "  except ValueError:\n",
        "    print('Erro')\n",
        "for x in range(min(valores),max(valores) + 1):\n",
        "  if x % 2 == 0:\n",
        "    pares += 1\n",
        "print(f'O número de pares entre {min(valores)} e {max(valores)} é de {pares}')"
      ],
      "metadata": {
        "id": "YVQnIm7fa9Au",
        "outputId": "cad762b9-f8b1-46fe-9489-dcdc04f888f4",
        "colab": {
          "base_uri": "https://localhost:8080/"
        }
      },
      "execution_count": 12,
      "outputs": [
        {
          "output_type": "stream",
          "name": "stdout",
          "text": [
            "Digite dois valores para receber a quantidade de pares entre estes\n",
            "Digite o valor inteiro: 67\n",
            "Digite o valor inteiro: 15\n",
            "O número de pares entre 15 e 67 é de 26\n"
          ]
        }
      ]
    },
    {
      "cell_type": "markdown",
      "source": [
        "##44"
      ],
      "metadata": {
        "id": "FjdvOKYQuXj3"
      }
    },
    {
      "cell_type": "markdown",
      "source": [
        "FAÇA UM PROGRAMA QUE IMPRIME A SOMA DE TODOS OS NÚMEROS PARES ENTRE DOIS NÚMEROS QUAISQUER, INCLUINDO- OS."
      ],
      "metadata": {
        "id": "RZ6Qkcq3uXaW"
      }
    },
    {
      "cell_type": "code",
      "source": [
        "print('Digite dois valores para receber a quantidade de pares entre estes')\n",
        "valores = []\n",
        "soma = 0\n",
        "while True:\n",
        "  try:\n",
        "    while len(valores) < 2:\n",
        "      valor = int(input('Digite o valor inteiro: '))\n",
        "      valores.append(valor)\n",
        "    break\n",
        "  except ValueError:\n",
        "    print('Erro')\n",
        "for x in range(min(valores),max(valores) + 1):\n",
        "  if x % 2 == 0:\n",
        "    soma += x\n",
        "print(f'A soma dos valores entre {min(valores)} e {max(valores)} é de {soma}')"
      ],
      "metadata": {
        "id": "TlHdzlysuWqf",
        "outputId": "75452741-2aee-4796-999d-8488cd28e2a8",
        "colab": {
          "base_uri": "https://localhost:8080/"
        }
      },
      "execution_count": 22,
      "outputs": [
        {
          "output_type": "stream",
          "name": "stdout",
          "text": [
            "Digite dois valores para receber a quantidade de pares entre estes\n",
            "Digite o valor inteiro: 10\n",
            "Digite o valor inteiro: 22\n",
            "A soma dos valores entre 10 e 22 é de 112\n"
          ]
        }
      ]
    },
    {
      "cell_type": "markdown",
      "source": [
        "##45"
      ],
      "metadata": {
        "id": "9ZTpIQMCv1Gr"
      }
    },
    {
      "cell_type": "markdown",
      "source": [
        "FAÇA UM PROGRAMA QUE CALCULE O FATORIAL DE UM NÚMERO."
      ],
      "metadata": {
        "id": "LdNV3ob5v08T"
      }
    },
    {
      "cell_type": "code",
      "source": [],
      "metadata": {
        "id": "irOJsEPav0vs"
      },
      "execution_count": null,
      "outputs": []
    }
  ]
}