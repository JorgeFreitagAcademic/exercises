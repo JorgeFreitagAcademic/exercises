{
  "nbformat": 4,
  "nbformat_minor": 0,
  "metadata": {
    "colab": {
      "provenance": [],
      "collapsed_sections": [],
      "include_colab_link": true
    },
    "kernelspec": {
      "name": "python3",
      "display_name": "Python 3"
    },
    "language_info": {
      "name": "python"
    }
  },
  "cells": [
    {
      "cell_type": "markdown",
      "metadata": {
        "id": "view-in-github",
        "colab_type": "text"
      },
      "source": [
        "<a href=\"https://colab.research.google.com/github/JorgeFreitagAcademic/exercises/blob/main/rngLuckyTest.ipynb\" target=\"_parent\"><img src=\"https://colab.research.google.com/assets/colab-badge.svg\" alt=\"Open In Colab\"/></a>"
      ]
    },
    {
      "cell_type": "markdown",
      "source": [
        "O programa consiste em um rng de 0 - 100 com pontuação e tentativas multiplas de acerto."
      ],
      "metadata": {
        "id": "oiHSZ0yH999E"
      }
    },
    {
      "cell_type": "code",
      "execution_count": 2,
      "metadata": {
        "id": "VVel1iEU97A4"
      },
      "outputs": [],
      "source": [
        "import random\n",
        "import math"
      ]
    },
    {
      "cell_type": "code",
      "source": [
        "while True:\n",
        "  try:\n",
        "    print('Digite 0 para encerrar seção\\nDigite 1 para jogar')\n",
        "    start = int(input(''))\n",
        "    if start == 0:\n",
        "      print('Seção Encerrada')\n",
        "      break\n",
        "    elif start == 1:\n",
        "      pontuacao = 200\n",
        "      array = []\n",
        "      rng = random.randint(1,100)\n",
        "      print('////////////////////////////////////////\\n/Tente adivinhar o número ente 1 - 100/\\n////////////////////////////////////////')\n",
        "      while True:\n",
        "        try:\n",
        "          d = int(input('Selecione a dificuldade\\nFácil (7 chances) = 1\\nMédio (5 chances) = 2\\nDifícil (3 chances) = 3\\n'))\n",
        "          if d <= 3 and d > 0:\n",
        "            if d == 1:\n",
        "              tries = 7\n",
        "              print('Digite 0 para voltar ao menu\\nVocê tem 7 chances')\n",
        "              break\n",
        "            elif d == 2:\n",
        "              tries = 5\n",
        "              print('Digite 0 para voltar ao menu\\nVocê tem 5 chances')\n",
        "              break\n",
        "            elif d == 3:\n",
        "              tries = 3\n",
        "              print('Digite 0 para voltar ao menu\\nVocê tem 3 chances')\n",
        "              break\n",
        "          else:\n",
        "            print('Selecione uma dificuldade digitando 1, 2 ou 3')\n",
        "        except ValueError:\n",
        "          print('Deve ser um número')\n",
        "      while len(array) < tries:\n",
        "        i = int(input('Tente a sorte: '))\n",
        "        if 1 <= i <= 100:\n",
        "          array.append(i)\n",
        "          if i > rng:\n",
        "            print(f'O número {i} foi maior que o número secreto')\n",
        "            pontuacao -= abs(i - rng)\n",
        "          elif i < rng:\n",
        "            print(f'O número {i} foi menor que o número secreto')\n",
        "            pontuacao -= abs(i - rng)\n",
        "          else:\n",
        "            print('Parabéns, você acertou o número secreto')\n",
        "            break\n",
        "        elif i == 0:\n",
        "          print('Voltando ao menu')\n",
        "          break\n",
        "        else:\n",
        "          print('O número deve estar entre 1 e 100')\n",
        "      print(f'Sua pontuação foi de: {pontuacao}')\n",
        "  except ValueError:\n",
        "    print('Deve ser um número')"
      ],
      "metadata": {
        "colab": {
          "base_uri": "https://localhost:8080/"
        },
        "id": "ePcvuVnXD6Hu",
        "outputId": "7041b9f7-4af1-4eb1-9ebb-65bf3e6e9947"
      },
      "execution_count": 9,
      "outputs": [
        {
          "output_type": "stream",
          "name": "stdout",
          "text": [
            "Digite 0 para encerrar seção\n",
            "Digite 1 para jogar\n",
            "1\n",
            "////////////////////////////////////////\n",
            "/Tente adivinhar o número ente 1 - 100/\n",
            "////////////////////////////////////////\n",
            "Selecione a dificuldade\n",
            "Fácil (7 chances) = 1\n",
            "Médio (5 chances) = 2\n",
            "Difícil (3 chances) = 3\n",
            "3\n",
            "Digite 0 para voltar ao menu\n",
            "Você tem 3 chances\n",
            "Tente a sorte: 12\n",
            "O número 12 foi menor que o número secreto\n",
            "Tente a sorte: 110\n",
            "O número deve estar entre 1 e 100\n",
            "Tente a sorte: 0\n",
            "Voltando ao menu\n",
            "Sua pontuação foi de: 119\n",
            "Digite 0 para encerrar seção\n",
            "Digite 1 para jogar\n",
            "0\n",
            "Seção Encerrada\n"
          ]
        }
      ]
    }
  ]
}