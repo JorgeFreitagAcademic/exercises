{
  "nbformat": 4,
  "nbformat_minor": 0,
  "metadata": {
    "colab": {
      "provenance": [],
      "collapsed_sections": [],
      "include_colab_link": true
    },
    "kernelspec": {
      "name": "python3",
      "display_name": "Python 3"
    },
    "language_info": {
      "name": "python"
    }
  },
  "cells": [
    {
      "cell_type": "markdown",
      "metadata": {
        "id": "view-in-github",
        "colab_type": "text"
      },
      "source": [
        "<a href=\"https://colab.research.google.com/github/JorgeFreitagAcademic/exercises/blob/main/rngLuckyTest.ipynb\" target=\"_parent\"><img src=\"https://colab.research.google.com/assets/colab-badge.svg\" alt=\"Open In Colab\"/></a>"
      ]
    },
    {
      "cell_type": "markdown",
      "source": [
        "O programa consiste em um rng de 0 - 100 com pontuação e tentativas multiplas de acerto."
      ],
      "metadata": {
        "id": "oiHSZ0yH999E"
      }
    },
    {
      "cell_type": "code",
      "execution_count": null,
      "metadata": {
        "id": "VVel1iEU97A4"
      },
      "outputs": [],
      "source": [
        "import random\n",
        "import math"
      ]
    },
    {
      "cell_type": "code",
      "source": [
        "pontuacao = 200\n",
        "x = []\n",
        "rng = random.randint(1,100)\n",
        "while True:\n",
        "  try:\n",
        "    print('Digite 0 para encerrar seção\\nDigite 1 para jogar')\n",
        "    s = int(input(''))\n",
        "    if s == 0:\n",
        "      print('Seção Encerrada')\n",
        "      break\n",
        "    elif s == 1:\n",
        "      print('////////////////////////////////////////\\n/Tente adivinhar o número ente 1 - 100/\\n////////////////////////////////////////')\n",
        "      while True:\n",
        "        try:\n",
        "          d = int(input('Selecione a dificuldade\\nFácil (7 chances) = 1\\nMédio (5 chances) = 2\\nDifícil (3 chances) = 3\\n'))\n",
        "          if d <= 3 and d > 0:\n",
        "            if d == 1:\n",
        "              tries = 7\n",
        "              break\n",
        "            elif d == 2:\n",
        "              tries = 5\n",
        "              break\n",
        "            elif d == 3:\n",
        "              tries = 3\n",
        "              break\n",
        "          else:\n",
        "            print('Selecione uma dificuldade digitando 1, 2 ou 3')\n",
        "        except ValueError:\n",
        "          print('Deve ser um número')\n",
        "      while len(x) < tries:\n",
        "        i = int(input('Tente a sorte: '))\n",
        "        if 1 <= i <= 100:\n",
        "          x.append(i)\n",
        "          if i > rng:\n",
        "            print(f'O número {i} foi maior que o número secreto')\n",
        "            pontuacao -= abs(i - rng)\n",
        "          elif i < rng:\n",
        "            print(f'O número {i} foi menor que o número secreto')\n",
        "            pontuacao -= abs(i - rng)\n",
        "          else:\n",
        "            print('Parabéns, você acertou o número secreto')51\n",
        "            break\n",
        "        else:\n",
        "          print('O número deve estar entre 1 e 100')\n",
        "      print(f'Sua pontuação foi de: {pontuacao}') \n",
        "  except ValueError:\n",
        "    print('Deve ser um número')"
      ],
      "metadata": {
        "colab": {
          "base_uri": "https://localhost:8080/"
        },
        "id": "ePcvuVnXD6Hu",
        "outputId": "2df1140e-b2e6-4083-fe7c-80a3b695303a"
      },
      "execution_count": null,
      "outputs": [
        {
          "output_type": "stream",
          "name": "stdout",
          "text": [
            "Digite 0 para encerrar seção\n",
            "Digite 1 para jogar\n",
            "1\n",
            "////////////////////////////////////////\n",
            "/Tente adivinhar o número ente 1 - 100/\n",
            "////////////////////////////////////////\n",
            "Selecione a dificuldade\n",
            "Fácil (7 chances) = 1\n",
            "Médio (5 chances) = 2\n",
            "Difícil (3 chances) = 3\n",
            "3\n",
            "Tente a sorte: 25\n",
            "O número 25 foi menor que o número secreto\n",
            "Tente a sorte: 66\n",
            "O número 66 foi menor que o número secreto\n",
            "Tente a sorte: 95\n",
            "O número 95 foi maior que o número secreto\n",
            "Sua pontuação foi de: 128\n",
            "Digite 0 para encerrar seção\n",
            "Digite 1 para jogar\n",
            "1\n",
            "////////////////////////////////////////\n",
            "/Tente adivinhar o número ente 1 - 100/\n",
            "////////////////////////////////////////\n",
            "Selecione a dificuldade\n",
            "Fácil (7 chances) = 1\n",
            "Médio (5 chances) = 2\n",
            "Difícil (3 chances) = 3\n",
            "0\n",
            "Selecione uma dificuldade digitando 1, 2 ou 3\n",
            "Selecione a dificuldade\n",
            "Fácil (7 chances) = 1\n",
            "Médio (5 chances) = 2\n",
            "Difícil (3 chances) = 3\n",
            "2\n",
            "Tente a sorte: 2\n",
            "O número 2 foi menor que o número secreto\n",
            "Tente a sorte: 5\n",
            "O número 5 foi menor que o número secreto\n",
            "Sua pontuação foi de: -1\n",
            "Digite 0 para encerrar seção\n",
            "Digite 1 para jogar\n",
            "0\n",
            "Seção Encerrada\n"
          ]
        }
      ]
    }
  ]
}