{
  "nbformat": 4,
  "nbformat_minor": 0,
  "metadata": {
    "colab": {
      "provenance": [],
      "toc_visible": true,
      "authorship_tag": "ABX9TyMUV6Yt7bWDEzgxm+QtLIok",
      "include_colab_link": true
    },
    "kernelspec": {
      "name": "python3",
      "display_name": "Python 3"
    },
    "language_info": {
      "name": "python"
    }
  },
  "cells": [
    {
      "cell_type": "markdown",
      "metadata": {
        "id": "view-in-github",
        "colab_type": "text"
      },
      "source": [
        "<a href=\"https://colab.research.google.com/github/JorgeFreitagAcademic/exercises/blob/main/exercises_1.ipynb\" target=\"_parent\"><img src=\"https://colab.research.google.com/assets/colab-badge.svg\" alt=\"Open In Colab\"/></a>"
      ]
    },
    {
      "cell_type": "markdown",
      "source": [
        "#Bibliotecas Importadas"
      ],
      "metadata": {
        "id": "B2OnREtKQ89x"
      }
    },
    {
      "cell_type": "code",
      "execution_count": 5,
      "metadata": {
        "id": "S0gVle7KQdOy"
      },
      "outputs": [],
      "source": [
        "import math"
      ]
    },
    {
      "cell_type": "markdown",
      "source": [
        "#Exercícios 31 - 40"
      ],
      "metadata": {
        "id": "u9vHrJ3DRClo"
      }
    },
    {
      "cell_type": "markdown",
      "source": [
        "##31"
      ],
      "metadata": {
        "id": "MSbeA3nHTd33"
      }
    },
    {
      "cell_type": "markdown",
      "source": [
        "ESCREVA UM ALGORITMO QUE LEIA DOIS NÚMEROS E EXIBA- OS EM ORDEM CRESCENTE"
      ],
      "metadata": {
        "id": "xbOgQd1lTf9A"
      }
    },
    {
      "cell_type": "code",
      "source": [
        "array = []\n",
        "while True:\n",
        "  try:\n",
        "    while len(array) < 2:\n",
        "      p = int(input('Digite dois números: '))\n",
        "    break\n",
        "  except ValueError:\n",
        "    print('Deve ser um número')\n",
        "if array[0] > array[1]:\n",
        "  print(f'Em ordem crescente: {array[1]}, {array[0]}')\n",
        "elif array[1] > array[0]:\n",
        "  print(f'Em ordem crescente: {array[0]}, {array[1]}')\n",
        "else:\n",
        "  print(f'Os números são iguais: {array[1]}')"
      ],
      "metadata": {
        "id": "CFJYnkA9TdHQ"
      },
      "execution_count": null,
      "outputs": []
    },
    {
      "cell_type": "markdown",
      "source": [
        "##32"
      ],
      "metadata": {
        "id": "5N5NtBF0V933"
      }
    },
    {
      "cell_type": "markdown",
      "source": [
        "ESCREVA UM ALGORITMO QUE LEIA UM NÚMERO E EXIBA SEU SUCESSOR."
      ],
      "metadata": {
        "id": "RT0trNtEdDyU"
      }
    },
    {
      "cell_type": "code",
      "source": [
        "while True:\n",
        "  try:\n",
        "    p = int(input('Digite um número '))\n",
        "    print(f'Seu sucessor é {p+1}')\n",
        "    break\n",
        "  except ValueError:\n",
        "    print('Deve ser um número')"
      ],
      "metadata": {
        "id": "xJvEOKG7V-6v",
        "colab": {
          "base_uri": "https://localhost:8080/"
        },
        "outputId": "0e0c5739-94c9-4592-9344-cf8d62ece2fe"
      },
      "execution_count": 7,
      "outputs": [
        {
          "output_type": "stream",
          "name": "stdout",
          "text": [
            "Digite um número 11\n",
            "Seu sucessor é 12\n"
          ]
        }
      ]
    },
    {
      "cell_type": "markdown",
      "source": [
        "##33"
      ],
      "metadata": {
        "id": "L7rd62_dWHzY"
      }
    },
    {
      "cell_type": "markdown",
      "source": [
        "ELABORE UM ALGORITMO QUE DADA A IDADE DE UM NADADOR CLASSIFICA- O EM UMA DAS SEGUINTES CATEGORIAS: INFANTIL A = 5 - 7 ANOS, INFANTIL B = 8 - 10 ANOS, JUVENIL A = 1 1 - 13 ANOS, JUVENIL B = 14 - 17 ANOS, ADULTO = MAIORES DE 18 ANOS."
      ],
      "metadata": {
        "id": "jVRhRZXPdeXu"
      }
    },
    {
      "cell_type": "code",
      "source": [
        "while True:\n",
        "  try:\n",
        "    p = int(input('Digite a idade do nadador: '))\n",
        "    break\n",
        "  except ValueError:\n",
        "    print('Erro')\n",
        "if p < 5:\n",
        "  print('Não incluido em classificações: Idade insuficiente')\n",
        "elif p > 4 and p < 8:\n",
        "  print('Classificação Infantil A')\n",
        "elif p > 7 and p < 11:\n",
        "  print('Classificação Infantil B')\n",
        "elif p > 10 and p < 14:\n",
        "  print('Classificação Juvenil A')\n",
        "elif p > 13 and p < 18:\n",
        "  print('Classificação Juvenil B')\n",
        "else:\n",
        "  print('Classificação Adulto')"
      ],
      "metadata": {
        "colab": {
          "base_uri": "https://localhost:8080/"
        },
        "id": "V763lZ-rWGYe",
        "outputId": "350e6612-4188-4454-a130-7a46b18f05a1"
      },
      "execution_count": 8,
      "outputs": [
        {
          "output_type": "stream",
          "name": "stdout",
          "text": [
            "Digite a idade do nadador: 12\n",
            "Classificação Juvenil A\n"
          ]
        }
      ]
    },
    {
      "cell_type": "markdown",
      "source": [
        "##34"
      ],
      "metadata": {
        "id": "PZT7yeuxeVD3"
      }
    },
    {
      "cell_type": "markdown",
      "source": [
        "FAÇA UM ALGORITMO QUE LEIA OS VALORES A, B, C E IMPRIMA NA TELA SE A SOMA DE A + B É MENOR QUE C."
      ],
      "metadata": {
        "id": "XKlIr8B1eWoI"
      }
    },
    {
      "cell_type": "code",
      "source": [
        "array = []\n",
        "while True:\n",
        "  try:\n",
        "    while len(array) < 3:\n",
        "      valores = int(input('Digite três valores'))\n",
        "      array.append(valores)\n",
        "    break\n",
        "  except ValueError:\n",
        "    print('Erro')\n",
        "if array[0] + array[1] > array[2]:\n",
        "  print(f'A soma de {array[0]} + {array[1]} é maior que {array[2]}')\n",
        "elif array[0] + array[1] == array[2]:\n",
        "  print(f'A soma de {array[0]} + {array[1]} é igual a {array[2]}')\n",
        "else:\n",
        "  print(f'A soma de {array[0]} + {array[1]} é menor que {array[2]}')  "
      ],
      "metadata": {
        "colab": {
          "base_uri": "https://localhost:8080/"
        },
        "id": "158OCcaDeZ6R",
        "outputId": "2e98a988-d935-42ba-ce28-f4b7d1baac85"
      },
      "execution_count": 10,
      "outputs": [
        {
          "output_type": "stream",
          "name": "stdout",
          "text": [
            "Digite três valores12\n",
            "Digite três valores12\n",
            "Digite três valores40\n",
            "A soma de 12 + 12 é menor que 40\n"
          ]
        }
      ]
    },
    {
      "cell_type": "markdown",
      "source": [
        "##35"
      ],
      "metadata": {
        "id": "dJmsDYhFfcgs"
      }
    },
    {
      "cell_type": "markdown",
      "source": [
        "FAÇA UM ALGORITMO QUE LEIA UMA VARIÁVEL E SOME 5 CASO SEJA PAR OU SOME 8 CASO SEJA ÍMPAR, IMPRIMIR O RESULTADO DESTA OPERAÇÃO"
      ],
      "metadata": {
        "id": "eJW8wdwzfdjk"
      }
    },
    {
      "cell_type": "code",
      "source": [
        "print('Digite um valor\\nSe for par, soma-se 5, se for impar, soma-se 8')\n",
        "while True:\n",
        "  try:\n",
        "    valor = int(input(''))\n",
        "    if (valor % 2) == 0:\n",
        "      print(f'O valor final é {valor + 5}')\n",
        "      break\n",
        "    else:\n",
        "      print(f'O valor final é {valor + 8}')\n",
        "      break\n",
        "    break\n",
        "  except ValueError:\n",
        "    print('Erro')"
      ],
      "metadata": {
        "colab": {
          "base_uri": "https://localhost:8080/"
        },
        "id": "2GPSj4TdfcSD",
        "outputId": "33f49dea-c668-48d4-8f54-3adda6581023"
      },
      "execution_count": 14,
      "outputs": [
        {
          "output_type": "stream",
          "name": "stdout",
          "text": [
            "Digite um valor\n",
            "Se for par, soma-se 5, se for impar, soma-se 8\n",
            "11\n",
            "O valor final é 19\n"
          ]
        }
      ]
    },
    {
      "cell_type": "markdown",
      "source": [
        "##36"
      ],
      "metadata": {
        "id": "Q1iMI0wkgUdE"
      }
    },
    {
      "cell_type": "markdown",
      "source": [
        "FAÇA UM ALGORITMO QUE LEIA UMA VARIÁVEL E DIVIDA POR 10 SE ESTIVER NO INTERVALO ENTRE 0 E 100 CASO ESTEJA FORA, DIVIDA POR 2. IMPRIMA O RESULTADO"
      ],
      "metadata": {
        "id": "HRUgrB0NgVkF"
      }
    },
    {
      "cell_type": "code",
      "source": [
        "while True:\n",
        "  try:\n",
        "    valor = int(input('Digite um número: '))\n",
        "    if 0 <= valor <= 100:\n",
        "      print(f'O resultado dividido por 10 é {valor / 10}')\n",
        "      break\n",
        "    else:\n",
        "      print(f'O resultado dividido por 2 é {valor / 2}')\n",
        "      break\n",
        "  except ValueError:\n",
        "    print('Erro')"
      ],
      "metadata": {
        "colab": {
          "base_uri": "https://localhost:8080/"
        },
        "id": "jNlZ30tqgYNM",
        "outputId": "c9018981-dc3f-4374-e2d2-9359055e2494"
      },
      "execution_count": 16,
      "outputs": [
        {
          "output_type": "stream",
          "name": "stdout",
          "text": [
            "Digite um número: 215\n",
            "O resultado dividido por 2 é 107.5\n"
          ]
        }
      ]
    },
    {
      "cell_type": "markdown",
      "source": [
        "##37"
      ],
      "metadata": {
        "id": "z67aLfvIhDhJ"
      }
    },
    {
      "cell_type": "markdown",
      "source": [
        "CRIE UM ALGORITMO QUE, DADO O NÍVEL DE ALERTA DE RISCO, IMPRIMA SE ELE FOR GRAVE. O NÍVEL DE ALERTA É UM NÚMERO QUE VARIA DE 0 A 10. O NÍVEL É CONSIDERADO GRAVE QUANDO ELE É SUPERIOR A 9"
      ],
      "metadata": {
        "id": "X1vIjJfJhEhV"
      }
    },
    {
      "cell_type": "code",
      "source": [
        "from traceback import print_last\n",
        "while True:\n",
        "  try:\n",
        "    risco = int(input('Digite o nível de alerta, dado de 0 a 10: '))\n",
        "    if 0 <= risco <= 10:\n",
        "      break\n",
        "    else:\n",
        "      print(f'Nível de risco inexistente ({risco})')\n",
        "  except ValueError:\n",
        "    print('Erro')\n",
        "if risco < 4:\n",
        "  print(f'Nível de risco atual {risco}-Leve')\n",
        "elif 3 < risco < 6:\n",
        "  print(f'Nível de risco atual {risco}-Medio')\n",
        "elif 5 < risco < 9:\n",
        "  print(f'Nível de risco atual {risco}-Alto')\n",
        "elif 8 < risco < 11:\n",
        "  print(f'Nível de risco atual {risco}-Grave')"
      ],
      "metadata": {
        "colab": {
          "base_uri": "https://localhost:8080/"
        },
        "id": "16ygXArIhG-f",
        "outputId": "538ba522-e73f-4b27-8b2b-cb0cca053ed7"
      },
      "execution_count": 21,
      "outputs": [
        {
          "output_type": "stream",
          "name": "stdout",
          "text": [
            "Digite o nível de alerta, dado de 0 a 10: 12\n",
            "Nível de risco inexistente (12)\n",
            "Digite o nível de alerta, dado de 0 a 10: 10\n",
            "Nível de risco atual 10-Grave\n"
          ]
        }
      ]
    },
    {
      "cell_type": "markdown",
      "source": [
        "##38"
      ],
      "metadata": {
        "id": "eZ3zaNDziG1v"
      }
    },
    {
      "cell_type": "markdown",
      "source": [
        "FAÇA UM PROGRAMA QUE LEIA UM NÚMERO E DIGA SE ELE É DIVISÍVEL POR 2 E POR 3.  USE ESTRUTURA DE DESVIO CONDICIONAL SIMPLES"
      ],
      "metadata": {
        "id": "Vkor5qC_iKFw"
      }
    },
    {
      "cell_type": "code",
      "source": [
        "while True:\n",
        "  try:\n",
        "    valor = int(input('Digite um número para saber se ele é divisivel por 2 e 3: '))\n",
        "    if (valor % 2) == 0 and (valor % 3) == 0:\n",
        "      print(f'{valor} é divisivel por 2 e 3')\n",
        "      break\n",
        "    else:\n",
        "      print(f'{valor} não é divisivel por 2 e 3')\n",
        "      break\n",
        "  except ValueError:\n",
        "    print('Erro')"
      ],
      "metadata": {
        "colab": {
          "base_uri": "https://localhost:8080/"
        },
        "id": "7PYN0UM6iMUf",
        "outputId": "a6285063-cd8c-410e-cd26-acf136d7bb6b"
      },
      "execution_count": 23,
      "outputs": [
        {
          "output_type": "stream",
          "name": "stdout",
          "text": [
            "Digite um número para saber se ele é divisivel por 2 e 3: 17\n",
            "17 não é divisivel por 2 e 3\n"
          ]
        }
      ]
    },
    {
      "cell_type": "markdown",
      "source": [
        "##39"
      ],
      "metadata": {
        "id": "k0C1o7jLiwoG"
      }
    },
    {
      "cell_type": "markdown",
      "source": [
        "CALCULE A MÉDIA ARITMÉTICA DAS 3 NOTAS DE UM ALUNO E MOSTRE, ALÉM DO VALOR DA MÉDIA, UMA MENSAGEM DE \" APROVADO\", CASO A MÉDIA SEJA IGUAL OU SUPERIOR A 6, OU A MENSAGEM \" REPROVADO\", CASO CONTRÁRIO"
      ],
      "metadata": {
        "id": "Xq7zpB-TixgV"
      }
    },
    {
      "cell_type": "code",
      "source": [
        "notas = []\n",
        "while True:\n",
        "  try:\n",
        "    while len(notas) < 3:\n",
        "      nota = float(input('Digite as notas de um aluno: '))\n",
        "      if 0 <= nota <= 10:\n",
        "        notas.append(nota)\n",
        "    break\n",
        "  except ValueError:\n",
        "    print('Erro')\n",
        "if sum(notas) < 6:\n",
        "  print(f'Média de {sum(notas)/3}, Reprovado')\n",
        "else:\n",
        "  print(f'Média de {sum(notas)/3}, Aprovado')"
      ],
      "metadata": {
        "colab": {
          "base_uri": "https://localhost:8080/"
        },
        "id": "0nLVoeXiivB8",
        "outputId": "08d5053b-9527-441c-c751-23a759d5b5be"
      },
      "execution_count": 26,
      "outputs": [
        {
          "output_type": "stream",
          "name": "stdout",
          "text": [
            "Digite as notas de um aluno: 9\n",
            "Digite as notas de um aluno: 8\n",
            "Digite as notas de um aluno: 3\n",
            "Média de 6.666666666666667, Aprovado\n"
          ]
        }
      ]
    },
    {
      "cell_type": "markdown",
      "source": [
        "##40"
      ],
      "metadata": {
        "id": "prsvSbePkBSW"
      }
    },
    {
      "cell_type": "markdown",
      "source": [
        "40.\tLEIA A DISTANCIA EM KM E A QUANTIDADE DE LITROS DE GASOLINA CONSUMIDOS POR UM CARRO EM UM PERCURSO, CALCULE O CONSUMO EM KM/ L E ESCREVA UMA MENSAGEM DE ACORDO COM A TABELA ABAIXO:\n",
        "\n",
        "![image.png](data:image/png;base64,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)"
      ],
      "metadata": {
        "id": "SDZ_6sw3kCa4"
      }
    },
    {
      "cell_type": "code",
      "source": [
        "while True:\n",
        "  try:\n",
        "    km = float(input('Digite a distancia percorrida em KM: '))\n",
        "    gas = float(input('Digite a quantidade gasta de gasolina em L: '))\n",
        "    if km/gas < 9:\n",
        "      print('Venda o carro!')\n",
        "      break\n",
        "    elif 8 < km/gas < 12:\n",
        "      print('Econômico!')\n",
        "      break\n",
        "    else:\n",
        "      print('Super econômico!')\n",
        "      break \n",
        "  except ValueError:\n",
        "    print('Erro')"
      ],
      "metadata": {
        "colab": {
          "base_uri": "https://localhost:8080/"
        },
        "id": "4Mv0_lA6kIxD",
        "outputId": "821eaab1-8eec-4b82-f974-da7027027908"
      },
      "execution_count": 29,
      "outputs": [
        {
          "output_type": "stream",
          "name": "stdout",
          "text": [
            "Digite a distancia percorrida em KM: 3000\n",
            "Digite a quantidade gasta de gasolina em L: 120\n",
            "Super econômico!\n"
          ]
        }
      ]
    }
  ]
}