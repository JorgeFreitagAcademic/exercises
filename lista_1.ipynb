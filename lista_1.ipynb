{
  "nbformat": 4,
  "nbformat_minor": 0,
  "metadata": {
    "colab": {
      "provenance": [],
      "toc_visible": true,
      "authorship_tag": "ABX9TyPfyYXsZ8L123DCv6+4E/n6",
      "include_colab_link": true
    },
    "kernelspec": {
      "name": "python3",
      "display_name": "Python 3"
    },
    "language_info": {
      "name": "python"
    }
  },
  "cells": [
    {
      "cell_type": "markdown",
      "metadata": {
        "id": "view-in-github",
        "colab_type": "text"
      },
      "source": [
        "<a href=\"https://colab.research.google.com/github/JorgeFreitagAcademic/exercises/blob/main/lista_1.ipynb\" target=\"_parent\"><img src=\"https://colab.research.google.com/assets/colab-badge.svg\" alt=\"Open In Colab\"/></a>"
      ]
    },
    {
      "cell_type": "markdown",
      "source": [
        "#Bibliotecas Importadas"
      ],
      "metadata": {
        "id": "nS4nLCvpG5_k"
      }
    },
    {
      "cell_type": "code",
      "execution_count": null,
      "metadata": {
        "id": "8cnp2TtMGm2E"
      },
      "outputs": [],
      "source": [
        "import math"
      ]
    },
    {
      "cell_type": "markdown",
      "source": [
        "#Lista de 4 atividades avaliativas"
      ],
      "metadata": {
        "id": "EQiWfSQqHAIz"
      }
    },
    {
      "cell_type": "markdown",
      "source": [
        "##Exercício 1"
      ],
      "metadata": {
        "id": "3xgGY2xkID1D"
      }
    },
    {
      "cell_type": "markdown",
      "source": [
        "Escreva um programa que recebe três números e retorna a soma deles, porém se\n",
        "houver números repetidos o valor deles não é contabilizado. Por exemplo, na\n",
        "entrada (1,2,3) a resposta é 6, na entrada (3,2,3) a resposta é 2 e na entrada\n",
        "(3,3,3) a resposta é 0. Evite testes desnecessários"
      ],
      "metadata": {
        "id": "GCxuJbvNIGg1"
      }
    },
    {
      "cell_type": "code",
      "source": [
        "x = []\n",
        "print('Digite três números para receber a soma deles (Números repitidos serão descontabilizados)')\n",
        "while True:\n",
        "  try:\n",
        "    while len(x) < 3:\n",
        "      i = int(input())\n",
        "      x.append(i)\n",
        "    break\n",
        "  except ValueError:\n",
        "    print('Deve ser um número')\n",
        "if x[0] != x[1] and x[1] != x[2] and x[0] != x[2]:\n",
        "  print(f'A soma é {sum(x)}')\n",
        "elif x[0] == x[1] and x[0] != x[2]:\n",
        "  print(f'A soma é {x[2]}')\n",
        "elif x[1] == x[2] and x[0] != x[2]:\n",
        "  print(f'A soma é {x[0]}')\n",
        "elif x[0] == x[2] and x[2] != x[1]:\n",
        "  print(f'A soma é {x[1]}')\n",
        "elif x[0] == x[1] == x[2]:\n",
        "  print(f'A soma é {0}')\n",
        "\n"
      ],
      "metadata": {
        "colab": {
          "base_uri": "https://localhost:8080/"
        },
        "id": "ODujc9dfILTT",
        "outputId": "3d1e8c06-9c1c-48f7-f3cd-ad489fdf90b0"
      },
      "execution_count": null,
      "outputs": [
        {
          "output_type": "stream",
          "name": "stdout",
          "text": [
            "Digite três números para receber a soma deles (Números repitidos serão descontabilizados)\n",
            "4\n",
            "a\n",
            "Deve ser um número\n",
            "5\n",
            "6\n",
            "A soma é 15\n"
          ]
        }
      ]
    },
    {
      "cell_type": "markdown",
      "source": [
        "##Exercício 2"
      ],
      "metadata": {
        "id": "7rAm2v8BILtT"
      }
    },
    {
      "cell_type": "markdown",
      "source": [
        "Desenvolva um gerador de tabuada, capaz de gerar a tabuada de qualquer\n",
        "número inteiro entre 1 a 10. O usuário deve informar de qual número ele deseja\n",
        "ver a tabuada. A saída deve ser conforme o exemplo abaixo:"
      ],
      "metadata": {
        "id": "J2x-xfQeIOgL"
      }
    },
    {
      "cell_type": "code",
      "source": [
        "while True:\n",
        "  try:\n",
        "    i = int(input('Digite um número de 1 a 10 para ter sua tabuada '))\n",
        "    if 0 <= i <= 10:\n",
        "      # print(f'A tabuada do número {i} é:\\n{i} x 1 = {}')\n",
        "      for x in range(1, 11):\n",
        "        print(f'{i} x {x} = {i*x}')\n",
        "      break\n",
        "    else:\n",
        "      print('O número escolhido deve ser dado entre 1 e 10')\n",
        "  except ValueError:\n",
        "    print('O texto deve ser preenchido com números inteiros de 1 a 10')"
      ],
      "metadata": {
        "colab": {
          "base_uri": "https://localhost:8080/"
        },
        "id": "YkDnDN_xIQ7D",
        "outputId": "8e159ee7-5c29-4eeb-bbb2-b9ea979ec02b"
      },
      "execution_count": null,
      "outputs": [
        {
          "output_type": "stream",
          "name": "stdout",
          "text": [
            "Digite um número de 1 a 10 para ter sua tabuada 4\n",
            "4 x 1 = 4\n",
            "4 x 2 = 8\n",
            "4 x 3 = 12\n",
            "4 x 4 = 16\n",
            "4 x 5 = 20\n",
            "4 x 6 = 24\n",
            "4 x 7 = 28\n",
            "4 x 8 = 32\n",
            "4 x 9 = 36\n",
            "4 x 10 = 40\n"
          ]
        }
      ]
    },
    {
      "cell_type": "markdown",
      "source": [
        "##Exercício 3"
      ],
      "metadata": {
        "id": "SpVA5N8XIRT6"
      }
    },
    {
      "cell_type": "markdown",
      "source": [
        "O Sr. Manoel Joaquim expandiu seus negócios para além dos negócios de 1,99 e\n",
        "agora possui uma loja de conveniências. Faça um programa que implemente uma\n",
        "caixa registradora rudimentar. O programa deverá receber um número\n",
        "desconhecido de valores referentes aos preços das mercadorias. Um valor zero\n",
        "deve ser informado pelo operador para indicar o final da compra. O programa\n",
        "deve então mostrar o total da compra e perguntar o valor em dinheiro que o\n",
        "cliente forneceu, para então calcular e mostrar o valor do troco. Após esta\n",
        "operação, o programa deverá voltar ao ponto inicial, para registrar a próxima\n",
        "compra. A saída deve ser conforme o exemplo abaixo:"
      ],
      "metadata": {
        "id": "kjyZ7fF9IS6-"
      }
    },
    {
      "cell_type": "markdown",
      "source": [
        "exemplo:\n",
        "Lojas Tabajara\n",
        "Produto 1: RS 2.20\n",
        "Produto 2: RS 5.80\n",
        "Produto 3: RS 0\n",
        "Total: RS 9.00\n",
        "Dinheiro: RS 20.00\n",
        "Troco: RS 11.00"
      ],
      "metadata": {
        "id": "bVta6czOIWwM"
      }
    },
    {
      "cell_type": "code",
      "source": [
        "n = 0\n",
        "total = n\n",
        "p1 = 2.50\n",
        "p2 = 8.30\n",
        "p3 = 5.00\n",
        "while True:\n",
        "  try:\n",
        "    q = int(input('Digite 1 para começar as compras\\nDigite 0 para ir ao caixa/sair\\n'))\n",
        "    if q == 1:\n",
        "      print(f'Tabela de preços:\\nP1 = R${p1:.2f}\\nP2 = R${p2:.2f}\\nP3 = R${p3:.2f}\\nDigite 0 para encerrar a compra')\n",
        "      while True:\n",
        "        try:\n",
        "          car = input('Digite o código do produto desejado: ')\n",
        "          if car == '0':\n",
        "            break\n",
        "          elif car == 'p1':\n",
        "            total += p1\n",
        "            print(f'Carrinho: R${total}')\n",
        "          elif car == 'p2':\n",
        "            total += p2\n",
        "            print(f'Carrinho: R${total}')\n",
        "          elif car == 'p3':\n",
        "            total += p3\n",
        "            print(f'Carrinho: R${total}')\n",
        "          else:\n",
        "            print('Deve ser um codigo listado')\n",
        "        except ValueError:\n",
        "          print('dado')\n",
        "    elif q == 0:\n",
        "      if total == 0:\n",
        "        break\n",
        "      else:\n",
        "        print(f'O total deu R${total}')\n",
        "        din = float(input('Digite o dinheiro: R$'))\n",
        "        if din > total:\n",
        "          print(f'O troco é de {(din - total):.2f}')\n",
        "          break\n",
        "        elif din == total:\n",
        "          print('Não houve troco')\n",
        "          break\n",
        "        else:\n",
        "          print('Dinheiro insuficiente')\n",
        "          break\n",
        "  except ValueError:\n",
        "    print('Deve ser um número')\n"
      ],
      "metadata": {
        "colab": {
          "base_uri": "https://localhost:8080/"
        },
        "id": "3BZi60v_IfA6",
        "outputId": "919b0c29-0cb9-4085-8403-ea769d1b4498"
      },
      "execution_count": null,
      "outputs": [
        {
          "output_type": "stream",
          "name": "stdout",
          "text": [
            "Digite 1 para começar as compras\n",
            "Digite 0 para ir ao caixa/sair\n",
            "1\n",
            "Tabela de preços:\n",
            "P1 = R$2.50\n",
            "P2 = R$8.30\n",
            "P3 = R$5.00\n",
            "Digite 0 para encerrar a compra\n",
            "Digite o código do produto desejado: p2\n",
            "Carrinho: R$8.3\n",
            "Digite o código do produto desejado: 0\n",
            "Digite 1 para começar as compras\n",
            "Digite 0 para ir ao caixa/sair\n",
            "1\n",
            "Tabela de preços:\n",
            "P1 = R$2.50\n",
            "P2 = R$8.30\n",
            "P3 = R$5.00\n",
            "Digite 0 para encerrar a compra\n",
            "Digite o código do produto desejado: p4\n",
            "Deve ser um codigo listado\n",
            "Digite o código do produto desejado: p3\n",
            "Carrinho: R$13.3\n",
            "Digite o código do produto desejado: 0\n",
            "Digite 1 para começar as compras\n",
            "Digite 0 para ir ao caixa/sair\n",
            "0\n",
            "O total deu R$13.3\n",
            "Digite o dinheiro: R$15\n",
            "O troco é de 1.70\n"
          ]
        }
      ]
    },
    {
      "cell_type": "markdown",
      "source": [
        "##Exercício 4"
      ],
      "metadata": {
        "id": "bdCEvc92Ifwj"
      }
    },
    {
      "cell_type": "markdown",
      "source": [
        "Faça um programa para um caixa eletrônico. O programa deverá perguntar ao\n",
        "usuário o valor do saque e depois informar quantas notas de cada valor serão\n",
        "fornecidas. As notas disponíveis serão as de 1, 5, 10, 50 e 100 reais. O valor\n",
        "mínimo é de 10 reais e o máximo de 600 reais. O programa não deve se\n",
        "preocupar com a quantidade de notas existentes na máquina.\n"
      ],
      "metadata": {
        "id": "fMblFQRiIh5r"
      }
    },
    {
      "cell_type": "markdown",
      "source": [
        "exemplos\n",
        "Para sacar a quantia de 256 reais, o programa fornece duas notas de\n",
        "100, uma nota de 50, uma nota de 5 e uma nota de 1;\n",
        "\n",
        "Para sacar a quantia de 399 reais, o programa fornece três notas de\n",
        "100, uma nota de 50, quatro notas de 10, uma nota de 5 e quatro notas de 1."
      ],
      "metadata": {
        "id": "wH9GSSg2ImZF"
      }
    },
    {
      "cell_type": "code",
      "source": [
        "cem = 0\n",
        "cinquenta = 0\n",
        "dez = 0\n",
        "cinco = 0\n",
        "um = 0\n",
        "\n",
        "while True:\n",
        "  try:\n",
        "    s = int(input('Digite o valor do saque, sem centavos, entre 10 e 600 reais: R$'))\n",
        "    if 10 <= s <= 600:\n",
        "      if (s % 100) > 0:\n",
        "        cem += (s//100)\n",
        "        s -= (cem * 100)\n",
        "        if (s % 50) > 0:\n",
        "          cinquenta += (s//50)\n",
        "          s -= (cinquenta * 50)\n",
        "          if (s % 10) > 0:\n",
        "            dez += (s//10)\n",
        "            s -= (dez * 10)\n",
        "          elif (s % 10) == 0:\n",
        "            dez += (s//10)\n",
        "            s -= (dez * 10)\n",
        "            break\n",
        "          elif (s % 10) < 0:\n",
        "            if (s % 5) > 0:\n",
        "              cinco += (s // 5)\n",
        "              s -= (cinco * 5)\n",
        "            elif (s % 5) == 0:\n",
        "              cinco += (s // 5)\n",
        "              s -= (cinco * 5)\n",
        "              break\n",
        "            elif (s % 5) < 0:\n",
        "              if (s % 1) > 0:\n",
        "                um += (s // 1)\n",
        "                s -= (um * 1)\n",
        "                break\n",
        "              elif (s % 1) == 0:\n",
        "                um += (s // 1)\n",
        "                break\n",
        "              elif (s % 1) < 0:\n",
        "                break\n",
        "        elif (s % 50) == 0:\n",
        "          cinquenta += (s//50)\n",
        "          s -= (cinquenta * 50)\n",
        "          break\n",
        "        elif (s % 50) < 0:\n",
        "          if (s % 10) > 0:\n",
        "            dez += (s//10)\n",
        "            s -= (dez * 10)\n",
        "          elif (s % 10) == 0:\n",
        "            dez += (s//10)\n",
        "            s -= (dez * 10)\n",
        "            break\n",
        "          elif (s % 10) < 0:\n",
        "            if (s % 5) > 0:\n",
        "              cinco += (s // 5)\n",
        "              s -= (cinco * 5)\n",
        "            elif (s % 5) == 0:\n",
        "              cinco += (s // 5)\n",
        "              s -= (cinco * 5)\n",
        "              break\n",
        "            elif (s % 5) < 0:\n",
        "              if (s % 1) > 0:\n",
        "                um += (s // 1)\n",
        "                s -= (um * 1)\n",
        "                break\n",
        "              elif (s % 1) == 0:\n",
        "                um += (s // 1)\n",
        "                break\n",
        "              elif (s % 1) < 0:\n",
        "                break\n",
        "      elif (s % 100) == 0:\n",
        "        cem += (s//100)\n",
        "        break\n",
        "      elif (s % 100) < 0:\n",
        "        if (s % 50) > 0:\n",
        "          cinquenta += (s//50)\n",
        "          s -= (cinquenta * 50)\n",
        "          if (s % 10) > 0:\n",
        "            dez += (s//10)\n",
        "            s -= (dez * 10)\n",
        "          elif (s % 10) == 0:\n",
        "            dez += (s//10)\n",
        "            break\n",
        "          elif (s % 10) < 0:\n",
        "            if (s % 5) > 0:\n",
        "              cinco += (s // 5)\n",
        "              s -= (cinco * 5)\n",
        "            elif (s % 5) == 0:\n",
        "              cinco += (s // 5)\n",
        "              break\n",
        "            elif (s % 5) < 0:\n",
        "              if (s % 1) > 0:\n",
        "                um += (s // 1)\n",
        "                break\n",
        "              elif (s % 1) == 0:\n",
        "                um += (s // 1)\n",
        "                break\n",
        "              elif (s % 1) < 0:\n",
        "                break\n",
        "        elif (s % 50) == 0:\n",
        "          cinquenta += (s//50)\n",
        "          s -= (cinquenta * 50)\n",
        "          break\n",
        "        elif (s % 50) < 0:\n",
        "          if (s % 10) > 0:\n",
        "            dez += (s//10)\n",
        "            s -= (dez * 10)\n",
        "            if (s % 5) > 0:\n",
        "              cinco += (s // 5)\n",
        "              s -= (cinco * 5)\n",
        "            elif (s % 5) == 0:\n",
        "              cinco += (s // 5)\n",
        "              break\n",
        "            elif (s % 5) < 0:\n",
        "              if (s % 1) > 0:\n",
        "                um += (s // 1)\n",
        "                break\n",
        "              elif (s % 1) == 0:\n",
        "                um += (s // 1)\n",
        "                break\n",
        "              elif (s % 1) < 0:\n",
        "                break\n",
        "          elif (s % 10) == 0:\n",
        "            dez += (s//10)\n",
        "            break\n",
        "          elif (s % 10) < 0:\n",
        "            if (s % 5) > 0:\n",
        "              cinco += (s // 5)\n",
        "              s -= (cinco * 5)\n",
        "              if (s % 1) > 0:\n",
        "                um += (s // 1)\n",
        "                break\n",
        "              elif (s % 1) == 0:\n",
        "                um += (s // 1)\n",
        "                break\n",
        "              elif (s % 1) < 0:\n",
        "                break\n",
        "            elif (s % 5) == 0:\n",
        "              cinco += (s // 5)\n",
        "              break\n",
        "            elif (s % 5) < 0:\n",
        "              if (s % 1) > 0:\n",
        "                um += (s // 1)\n",
        "                break\n",
        "              elif (s % 1) == 0:\n",
        "                um += (s // 1)\n",
        "                break\n",
        "              elif (s % 1) < 0:\n",
        "                break\n",
        "          break\n",
        "    else:\n",
        "      print('Deve ser um valor entre 10 e 100')\n",
        "  except ValueError:\n",
        "    print('Deve ser um número inteiro')\n",
        "print(f'Você receberá as seguintes notas:\\n{cem} notas de R$100\\n{cinquenta} notas de R$50\\n{dez} notas de R$10\\n{cinco} notas de R$5\\n{um} notas de R$1')"
      ],
      "metadata": {
        "id": "a7XeZMvPS-oi"
      },
      "execution_count": null,
      "outputs": []
    }
  ]
}